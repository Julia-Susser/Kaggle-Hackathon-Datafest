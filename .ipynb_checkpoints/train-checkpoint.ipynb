{
 "cells": [
  {
   "cell_type": "code",
   "execution_count": 113,
   "metadata": {},
   "outputs": [],
   "source": [
    "import pandas as pd\n",
    "import numpy as np\n",
    "import re\n",
    "from sklearn.preprocessing import LabelEncoder\n",
    "import numpy as np"
   ]
  },
  {
   "cell_type": "code",
   "execution_count": 180,
   "metadata": {},
   "outputs": [
    {
     "data": {
      "text/html": [
       "<div>\n",
       "<style scoped>\n",
       "    .dataframe tbody tr th:only-of-type {\n",
       "        vertical-align: middle;\n",
       "    }\n",
       "\n",
       "    .dataframe tbody tr th {\n",
       "        vertical-align: top;\n",
       "    }\n",
       "\n",
       "    .dataframe thead th {\n",
       "        text-align: right;\n",
       "    }\n",
       "</style>\n",
       "<table border=\"1\" class=\"dataframe\">\n",
       "  <thead>\n",
       "    <tr style=\"text-align: right;\">\n",
       "      <th></th>\n",
       "      <th>Property_Id</th>\n",
       "      <th>Title</th>\n",
       "      <th>Label</th>\n",
       "      <th>Type</th>\n",
       "      <th>Location</th>\n",
       "      <th>Baths</th>\n",
       "      <th>Area</th>\n",
       "      <th>Purpose</th>\n",
       "      <th>Bedroom(s)</th>\n",
       "      <th>Description</th>\n",
       "      <th>Main Features</th>\n",
       "      <th>Rooms</th>\n",
       "      <th>Business and Communication</th>\n",
       "      <th>Healthcare Recreational</th>\n",
       "      <th>Nearby Locations and Other Facilities</th>\n",
       "      <th>Other Facilities</th>\n",
       "      <th>Popular</th>\n",
       "      <th>Source</th>\n",
       "      <th>Time Stamp</th>\n",
       "      <th>Price_Category</th>\n",
       "    </tr>\n",
       "  </thead>\n",
       "  <tbody>\n",
       "    <tr>\n",
       "      <th>0</th>\n",
       "      <td>381</td>\n",
       "      <td>Brand New 1 Kanal House For Sale In Bahria Tow...</td>\n",
       "      <td>Bahria Town - Gulbahar Block, Bahria Town - Se...</td>\n",
       "      <td>House</td>\n",
       "      <td>Bahria Town, Lahore, Punjab</td>\n",
       "      <td>6</td>\n",
       "      <td>1 Kanal</td>\n",
       "      <td>For Sale</td>\n",
       "      <td>5</td>\n",
       "      <td>Brand New 1 Kanal House For Sale In Bahria Tow...</td>\n",
       "      <td>Built in year: 2018 , Parking Spaces: 4 , Dou...</td>\n",
       "      <td>Bedrooms: 5 , Bathrooms: 7 , Servant Quarters...</td>\n",
       "      <td>Broadband Internet Access , Satellite or Cabl...</td>\n",
       "      <td>Lawn or Garden , Swimming Pool</td>\n",
       "      <td>Nearby Schools , Nearby Hospitals , Nearby Sh...</td>\n",
       "      <td>Maintenance Staff , Security Staff , Faciliti...</td>\n",
       "      <td>super hot</td>\n",
       "      <td>Lahore-1-10</td>\n",
       "      <td>3/31/2019 11:01</td>\n",
       "      <td>Semi-Premium</td>\n",
       "    </tr>\n",
       "  </tbody>\n",
       "</table>\n",
       "</div>"
      ],
      "text/plain": [
       "   Property_Id                                              Title  \\\n",
       "0          381  Brand New 1 Kanal House For Sale In Bahria Tow...   \n",
       "\n",
       "                                               Label   Type  \\\n",
       "0  Bahria Town - Gulbahar Block, Bahria Town - Se...  House   \n",
       "\n",
       "                      Location Baths     Area   Purpose Bedroom(s)  \\\n",
       "0  Bahria Town, Lahore, Punjab     6  1 Kanal  For Sale          5   \n",
       "\n",
       "                                         Description  \\\n",
       "0  Brand New 1 Kanal House For Sale In Bahria Tow...   \n",
       "\n",
       "                                       Main Features  \\\n",
       "0   Built in year: 2018 , Parking Spaces: 4 , Dou...   \n",
       "\n",
       "                                               Rooms  \\\n",
       "0   Bedrooms: 5 , Bathrooms: 7 , Servant Quarters...   \n",
       "\n",
       "                          Business and Communication  \\\n",
       "0   Broadband Internet Access , Satellite or Cabl...   \n",
       "\n",
       "           Healthcare Recreational  \\\n",
       "0   Lawn or Garden , Swimming Pool   \n",
       "\n",
       "               Nearby Locations and Other Facilities  \\\n",
       "0   Nearby Schools , Nearby Hospitals , Nearby Sh...   \n",
       "\n",
       "                                    Other Facilities    Popular       Source  \\\n",
       "0   Maintenance Staff , Security Staff , Faciliti...  super hot  Lahore-1-10   \n",
       "\n",
       "        Time Stamp Price_Category  \n",
       "0  3/31/2019 11:01   Semi-Premium  "
      ]
     },
     "execution_count": 180,
     "metadata": {},
     "output_type": "execute_result"
    }
   ],
   "source": [
    "train = pd.read_csv(\"../input/train.csv\")\n",
    "test = pd.read_csv(\"../input/test.csv\")\n",
    "train.head(1)"
   ]
  },
  {
   "cell_type": "code",
   "execution_count": 181,
   "metadata": {},
   "outputs": [],
   "source": [
    "def findWcolon(a,x, length):\n",
    "    val = re.findall(\"%s: \\d+\" % a,x)\n",
    "    val = val[0][-length:] if len(val)>0 else (np.nan if len(x)==1 else 0)\n",
    "    return val\n",
    "def find(a,x):\n",
    "    return 1 if a in x else (np.nan if len(x)==1 else 0)\n",
    "\n",
    "def rooms(x):\n",
    "    living = find(\"Study Room\",x) + find(\"Drawing Room\",x) + find(\"Dining Room\",x) + find(\"Lounge or SittingRoom\", x)\n",
    "    athletic = find(\"Gym\",x) + find(\"Steam Room\",x) + find(\"Laundry Room\",x) + find(\"Powder Room\", x)\n",
    "    #findWcolon(\"Bathrooms\",x,1),\n",
    "    return [findWcolon(\"Servant Quarters\",x,1), findWcolon(\"Kitchen\",x,1), findWcolon(\"Store Rooms\",x,1), living, athletic, find(\"Other Rooms\", x)]\n",
    "\n",
    "def main_features(x):\n",
    "    return [findWcolon(\"Built in year\",x,4), findWcolon(\"Parking Spaces\",x,1), findWcolon(\"Floors\",x,1), find(\"Double Glazed Windows\", x), find(\"Flooring\", x), find(\"Electric Backup\", x), find(\"Waste Disposal\", x),find(\"Central Air Conditioning\", x), find(\"Flooring\", x)]\n",
    "\n",
    "def business(x):\n",
    "    return [find(\"Broadband Internet Access\", x), find(\"Satellite or Cable TV Ready\", x), find(\"Intercom\", x), find(\"Other Business and Communication Facilities\", x)]\n",
    "\n",
    "def health(x):\n",
    "    return [find(\"Lawn or Garden\", x), find(\"Sauna\", x) + find(\"Jacuzzi\", x), find(\"Swimming Pool\", x), find(\"Other Healthcare and Recreation Facilities\", x)]\n",
    "\n",
    "def facilities(x):\n",
    "    cols = ['Maintenance Staff','Security Staff','Facilities for Disabled','Other Facilities']\n",
    "    return [find(y,x) for y in cols]\n",
    "\n",
    "def nearby(x):\n",
    "    val = len([y for y in x.split(\" , \") if \"Nearby\" in y]) if x != \" \" else np.nan\n",
    "    return val\n",
    "\n",
    "train[[\"Date\",\"Parking\",\"Floors\",\"Windows\", \"Flooring\", \"ElectricBackup\", \"WasteDisposal\", \"CentralAir\", \"CentralHeating\"]] = list(train[\"Main Features\"].apply(main_features))\n",
    "\n",
    "train[[\"Servants\", \"Kitchens\", \"StoreRooms\", \"LivingRooms\", \"HealthRooms\",\"OtherRooms\"]] = list(train.Rooms.apply(rooms))\n",
    "\n",
    "train[[\"internet\",\"tv\",\"intercom\",\"otherBusiness\"]] = list(train[\"Business and Communication\"].apply(business))\n",
    "\n",
    "train[[\"town\",\"city\",\"province\"]] = list(train.Location.apply(lambda x: x.split(\",\")))\n",
    "\n",
    "train[[\"lawn\",\"hotTub\",\"pool\",\"otherHealth\"]] = list(train[\"Healthcare Recreational\"].apply(health))\n",
    "\n",
    "train.Area = train.Area.apply(lambda x: float(x.split(\" \")[0]) if x.split(\" \")[1] == \"Marla\" else float(x.split(\" \")[0]) *20)\n",
    "\n",
    "train[['MaintenanceStaff','SecurityStaff','FacilitiesDisabled','OtherFacilities']] = list(train[\"Other Facilities\"].apply(facilities))\n",
    "    \n",
    "train[\"Nearby\"] = train[\"Nearby Locations and Other Facilities\"].apply(nearby)\n"
   ]
  },
  {
   "cell_type": "code",
   "execution_count": 184,
   "metadata": {},
   "outputs": [],
   "source": [
    "train = train.drop([\"Title\",\"Label\",\"Type\",\"Purpose\", \"Healthcare Recreational\", \"Other Facilities\", \"Rooms\",\"Nearby Locations and Other Facilities\",\"Main Features\", \"Source\", \"Time Stamp\", \"Description\", \"Location\", \"Business and Communication\"],axis=1)\n",
    "#train[train.Rooms == \" \"]"
   ]
  },
  {
   "cell_type": "code",
   "execution_count": 13,
   "metadata": {},
   "outputs": [],
   "source": []
  },
  {
   "cell_type": "code",
   "execution_count": 148,
   "metadata": {},
   "outputs": [
    {
     "data": {
      "text/html": [
       "<div>\n",
       "<style scoped>\n",
       "    .dataframe tbody tr th:only-of-type {\n",
       "        vertical-align: middle;\n",
       "    }\n",
       "\n",
       "    .dataframe tbody tr th {\n",
       "        vertical-align: top;\n",
       "    }\n",
       "\n",
       "    .dataframe thead th {\n",
       "        text-align: right;\n",
       "    }\n",
       "</style>\n",
       "<table border=\"1\" class=\"dataframe\">\n",
       "  <thead>\n",
       "    <tr style=\"text-align: right;\">\n",
       "      <th></th>\n",
       "      <th>0</th>\n",
       "      <th>1</th>\n",
       "      <th>2</th>\n",
       "    </tr>\n",
       "  </thead>\n",
       "  <tbody>\n",
       "    <tr>\n",
       "      <th>0</th>\n",
       "      <td>Bahria Town</td>\n",
       "      <td>Lahore</td>\n",
       "      <td>Punjab</td>\n",
       "    </tr>\n",
       "    <tr>\n",
       "      <th>1</th>\n",
       "      <td>Emaar Canyon Views</td>\n",
       "      <td>Islamabad</td>\n",
       "      <td>Islamabad Capital</td>\n",
       "    </tr>\n",
       "    <tr>\n",
       "      <th>2</th>\n",
       "      <td>DHA Defence</td>\n",
       "      <td>Lahore</td>\n",
       "      <td>Punjab</td>\n",
       "    </tr>\n",
       "    <tr>\n",
       "      <th>3</th>\n",
       "      <td>Bahria Town Karachi</td>\n",
       "      <td>Karachi</td>\n",
       "      <td>Sindh</td>\n",
       "    </tr>\n",
       "    <tr>\n",
       "      <th>4</th>\n",
       "      <td>Bani Gala</td>\n",
       "      <td>Islamabad</td>\n",
       "      <td>Islamabad Capital</td>\n",
       "    </tr>\n",
       "    <tr>\n",
       "      <th>...</th>\n",
       "      <td>...</td>\n",
       "      <td>...</td>\n",
       "      <td>...</td>\n",
       "    </tr>\n",
       "    <tr>\n",
       "      <th>3077</th>\n",
       "      <td>I-8</td>\n",
       "      <td>Islamabad</td>\n",
       "      <td>Islamabad Capital</td>\n",
       "    </tr>\n",
       "    <tr>\n",
       "      <th>3078</th>\n",
       "      <td>Al Jalil Garden</td>\n",
       "      <td>Lahore</td>\n",
       "      <td>Punjab</td>\n",
       "    </tr>\n",
       "    <tr>\n",
       "      <th>3079</th>\n",
       "      <td>DHA Defence</td>\n",
       "      <td>Islamabad</td>\n",
       "      <td>Islamabad Capital</td>\n",
       "    </tr>\n",
       "    <tr>\n",
       "      <th>3080</th>\n",
       "      <td>Bahria Town</td>\n",
       "      <td>Islamabad</td>\n",
       "      <td>Islamabad Capital</td>\n",
       "    </tr>\n",
       "    <tr>\n",
       "      <th>3081</th>\n",
       "      <td>Bhara kahu</td>\n",
       "      <td>Islamabad</td>\n",
       "      <td>Islamabad Capital</td>\n",
       "    </tr>\n",
       "  </tbody>\n",
       "</table>\n",
       "<p>3082 rows × 3 columns</p>\n",
       "</div>"
      ],
      "text/plain": [
       "                        0           1                   2\n",
       "0             Bahria Town      Lahore              Punjab\n",
       "1      Emaar Canyon Views   Islamabad   Islamabad Capital\n",
       "2             DHA Defence      Lahore              Punjab\n",
       "3     Bahria Town Karachi     Karachi               Sindh\n",
       "4               Bani Gala   Islamabad   Islamabad Capital\n",
       "...                   ...         ...                 ...\n",
       "3077                  I-8   Islamabad   Islamabad Capital\n",
       "3078      Al Jalil Garden      Lahore              Punjab\n",
       "3079          DHA Defence   Islamabad   Islamabad Capital\n",
       "3080          Bahria Town   Islamabad   Islamabad Capital\n",
       "3081           Bhara kahu   Islamabad   Islamabad Capital\n",
       "\n",
       "[3082 rows x 3 columns]"
      ]
     },
     "execution_count": 148,
     "metadata": {},
     "output_type": "execute_result"
    }
   ],
   "source": [
    "loc_df"
   ]
  },
  {
   "cell_type": "code",
   "execution_count": 145,
   "metadata": {},
   "outputs": [
    {
     "data": {
      "text/plain": [
       "Semi-Premium    1837\n",
       "Premium         1057\n",
       "Affordable       170\n",
       "Cheap             18\n",
       "Name: Price_Category, dtype: int64"
      ]
     },
     "execution_count": 145,
     "metadata": {},
     "output_type": "execute_result"
    }
   ],
   "source": [
    "train[train[\"Business and Communication\"] == \" \"][\"Price_Category\"].value_counts()\n",
    "#train[\"Price_Category\"].value_counts()"
   ]
  },
  {
   "cell_type": "code",
   "execution_count": 19,
   "metadata": {},
   "outputs": [],
   "source": [
    "\n"
   ]
  },
  {
   "cell_type": "code",
   "execution_count": null,
   "metadata": {},
   "outputs": [
    {
     "data": {
      "application/vnd.jupyter.widget-view+json": {
       "model_id": "45a74b9fe12f4b139e7874be20dc1aa1",
       "version_major": 2,
       "version_minor": 0
      },
      "text/plain": [
       "Summarize dataset:   0%|          | 0/33 [00:00<?, ?it/s]"
      ]
     },
     "metadata": {},
     "output_type": "display_data"
    }
   ],
   "source": [
    "import pandas_profiling\n",
    "pandas_profiling.ProfileReport(train)"
   ]
  },
  {
   "cell_type": "code",
   "execution_count": null,
   "metadata": {},
   "outputs": [],
   "source": []
  }
 ],
 "metadata": {
  "kernelspec": {
   "display_name": "Python 3",
   "language": "python",
   "name": "python3"
  },
  "language_info": {
   "codemirror_mode": {
    "name": "ipython",
    "version": 3
   },
   "file_extension": ".py",
   "mimetype": "text/x-python",
   "name": "python",
   "nbconvert_exporter": "python",
   "pygments_lexer": "ipython3",
   "version": "3.8.4"
  }
 },
 "nbformat": 4,
 "nbformat_minor": 4
}
