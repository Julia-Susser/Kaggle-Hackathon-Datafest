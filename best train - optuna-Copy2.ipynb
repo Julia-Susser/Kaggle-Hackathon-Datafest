{
 "cells": [
  {
   "cell_type": "code",
   "execution_count": 3,
   "metadata": {},
   "outputs": [],
   "source": [
    "from sklearn.kernel_ridge import KernelRidge\n",
    "from sklearn.linear_model import SGDRegressor\n",
    "from sklearn.model_selection import KFold, cross_val_score, train_test_split,StratifiedKFold # Model evaluation\n",
    "from sklearn.preprocessing import LabelEncoder, RobustScaler, OneHotEncoder, StandardScaler # Preprocessing\n",
    "from sklearn.linear_model import Lasso, Ridge, ElasticNet,  LassoLarsIC, RANSACRegressor, SGDRegressor, HuberRegressor, BayesianRidge # Linear models\n",
    "from sklearn.ensemble import RandomForestRegressor, BaggingRegressor, AdaBoostRegressor, GradientBoostingRegressor, ExtraTreesRegressor  # Ensemble methods\n",
    "from xgboost import XGBRegressor, plot_importance # XGBoost\n",
    "from sklearn.svm import SVR, SVC, LinearSVC  # Support Vector Regression\n",
    "from sklearn.tree import DecisionTreeRegressor # Decision Tree Regression\n",
    "from sklearn.neighbors import KNeighborsRegressor, KNeighborsClassifier\n",
    "from sklearn.pipeline import Pipeline, make_pipeline # Streaming pipelines\n",
    "from sklearn.decomposition import KernelPCA, PCA # Dimensionality reduction\n",
    "from sklearn.feature_selection import SelectFromModel # Dimensionality reduction\n",
    "from sklearn.model_selection import learning_curve, validation_curve, GridSearchCV # Model evaluation\n",
    "from sklearn.base import clone, BaseEstimator, TransformerMixin, RegressorMixin # Clone estimator\n",
    "from sklearn.metrics import mean_squared_error as MSE\n",
    "from sklearn.metrics import explained_variance_score, f1_score, roc_auc_score, median_absolute_error, r2_score, mean_squared_error #To evaluate our model\n",
    "from sklearn.metrics import accuracy_score, confusion_matrix, classification_report, fbeta_score #To evaluate our model\n",
    "from sklearn.linear_model import LinearRegression\n",
    "from lightgbm import LGBMRegressor, LGBMClassifier\n",
    "from sklearn.linear_model import LogisticRegression\n",
    "import xgboost as xgb\n",
    "import pandas as pd\n",
    "import numpy as np\n",
    "import matplotlib.pyplot as plt \n",
    "import seaborn as sns \n",
    "from sklearn.utils import shuffle\n",
    "from sklearn.model_selection import train_test_split \n",
    "import optuna"
   ]
  },
  {
   "cell_type": "code",
   "execution_count": 4,
   "metadata": {},
   "outputs": [],
   "source": [
    "import pandas as pd\n",
    "import numpy as np\n",
    "import re\n",
    "import numpy as np"
   ]
  },
  {
   "cell_type": "code",
   "execution_count": 5,
   "metadata": {},
   "outputs": [
    {
     "data": {
      "text/html": [
       "<div>\n",
       "<style scoped>\n",
       "    .dataframe tbody tr th:only-of-type {\n",
       "        vertical-align: middle;\n",
       "    }\n",
       "\n",
       "    .dataframe tbody tr th {\n",
       "        vertical-align: top;\n",
       "    }\n",
       "\n",
       "    .dataframe thead th {\n",
       "        text-align: right;\n",
       "    }\n",
       "</style>\n",
       "<table border=\"1\" class=\"dataframe\">\n",
       "  <thead>\n",
       "    <tr style=\"text-align: right;\">\n",
       "      <th></th>\n",
       "      <th>Title</th>\n",
       "      <th>Label</th>\n",
       "      <th>Type</th>\n",
       "      <th>Location</th>\n",
       "      <th>Baths</th>\n",
       "      <th>Area</th>\n",
       "      <th>Purpose</th>\n",
       "      <th>Bedroom(s)</th>\n",
       "      <th>Description</th>\n",
       "      <th>Main Features</th>\n",
       "      <th>Rooms</th>\n",
       "      <th>Business and Communication</th>\n",
       "      <th>Healthcare Recreational</th>\n",
       "      <th>Nearby Locations and Other Facilities</th>\n",
       "      <th>Other Facilities</th>\n",
       "      <th>Popular</th>\n",
       "      <th>Source</th>\n",
       "      <th>Time Stamp</th>\n",
       "    </tr>\n",
       "  </thead>\n",
       "  <tbody>\n",
       "    <tr>\n",
       "      <th>0</th>\n",
       "      <td>Brand New 1 Kanal House For Sale In Bahria Tow...</td>\n",
       "      <td>Bahria Town - Gulbahar Block, Bahria Town - Se...</td>\n",
       "      <td>House</td>\n",
       "      <td>Bahria Town, Lahore, Punjab</td>\n",
       "      <td>6</td>\n",
       "      <td>1 Kanal</td>\n",
       "      <td>For Sale</td>\n",
       "      <td>5</td>\n",
       "      <td>Brand New 1 Kanal House For Sale In Bahria Tow...</td>\n",
       "      <td>Built in year: 2018 , Parking Spaces: 4 , Dou...</td>\n",
       "      <td>Bedrooms: 5 , Bathrooms: 7 , Servant Quarters...</td>\n",
       "      <td>Broadband Internet Access , Satellite or Cabl...</td>\n",
       "      <td>Lawn or Garden , Swimming Pool</td>\n",
       "      <td>Nearby Schools , Nearby Hospitals , Nearby Sh...</td>\n",
       "      <td>Maintenance Staff , Security Staff , Faciliti...</td>\n",
       "      <td>super hot</td>\n",
       "      <td>Lahore-1-10</td>\n",
       "      <td>3/31/2019 11:01</td>\n",
       "    </tr>\n",
       "  </tbody>\n",
       "</table>\n",
       "</div>"
      ],
      "text/plain": [
       "                                               Title  \\\n",
       "0  Brand New 1 Kanal House For Sale In Bahria Tow...   \n",
       "\n",
       "                                               Label   Type  \\\n",
       "0  Bahria Town - Gulbahar Block, Bahria Town - Se...  House   \n",
       "\n",
       "                      Location Baths     Area   Purpose Bedroom(s)  \\\n",
       "0  Bahria Town, Lahore, Punjab     6  1 Kanal  For Sale          5   \n",
       "\n",
       "                                         Description  \\\n",
       "0  Brand New 1 Kanal House For Sale In Bahria Tow...   \n",
       "\n",
       "                                       Main Features  \\\n",
       "0   Built in year: 2018 , Parking Spaces: 4 , Dou...   \n",
       "\n",
       "                                               Rooms  \\\n",
       "0   Bedrooms: 5 , Bathrooms: 7 , Servant Quarters...   \n",
       "\n",
       "                          Business and Communication  \\\n",
       "0   Broadband Internet Access , Satellite or Cabl...   \n",
       "\n",
       "           Healthcare Recreational  \\\n",
       "0   Lawn or Garden , Swimming Pool   \n",
       "\n",
       "               Nearby Locations and Other Facilities  \\\n",
       "0   Nearby Schools , Nearby Hospitals , Nearby Sh...   \n",
       "\n",
       "                                    Other Facilities    Popular       Source  \\\n",
       "0   Maintenance Staff , Security Staff , Faciliti...  super hot  Lahore-1-10   \n",
       "\n",
       "        Time Stamp  \n",
       "0  3/31/2019 11:01  "
      ]
     },
     "execution_count": 5,
     "metadata": {},
     "output_type": "execute_result"
    }
   ],
   "source": [
    "train = pd.read_csv(\"../input/train.csv\")\n",
    "test = pd.read_csv(\"../input/test.csv\")\n",
    "testId = test.Property_Id\n",
    "train.Price_Category = train.Price_Category.replace(\"Cheap\",0).replace(\"Affordable\",1).replace(\"Semi-Premium\",2).replace(\"Premium\",3)\n",
    "y = train.Price_Category\n",
    "train = train.drop([\"Property_Id\", \"Price_Category\"],axis=1)\n",
    "test = test.drop([\"Property_Id\"],axis=1)\n",
    "features = pd.concat([train,test])\n",
    "train.head(1)"
   ]
  },
  {
   "cell_type": "code",
   "execution_count": 6,
   "metadata": {},
   "outputs": [],
   "source": [
    "def findWcolon(a,x, length):\n",
    "    val = re.findall(\"%s: \\d+\" % a,x)\n",
    "    val = val[0][-length:] if len(val)>0 else (np.nan if len(x)==1 else 0)\n",
    "    return val\n",
    "def find(a,x):\n",
    "    return 1 if a in x else (np.nan if len(x)==1 else 0)\n",
    "\n",
    "def rooms(x):\n",
    "    living = find(\"Study Room\",x) + find(\"Drawing Room\",x) + find(\"Dining Room\",x) + find(\"Lounge or Sitting Room\", x)\n",
    "    athletic = find(\"Gym\",x) + find(\"Steam Room\",x) + find(\"Laundry Room\",x) + find(\"Powder Room\", x)\n",
    "    #findWcolon(\"Bathrooms\",x,1),\n",
    "    return [findWcolon(\"Servant Quarters\",x,1), findWcolon(\"Kitchens\",x,1), findWcolon(\"Store Rooms\",x,1), living, athletic, find(\"Other Rooms\", x), find(\"Steam Room\",x), find(\"Laundry Room\",x), find(\"Powder Room\", x), find(\"Study Room\",x), find(\"Drawing Room\",x), find(\"Dining Room\",x), find(\"Lounge or Sitting Room\", x)]\n",
    "\n",
    "def main_features(x):\n",
    "    return [findWcolon(\"Built in year\",x,4), findWcolon(\"Parking Spaces\",x,1), findWcolon(\"Floors\",x,1), find(\"Double Glazed Windows\", x), find(\"Flooring\", x), find(\"Electricity Backup\", x), find(\"Waste Disposal\", x),find(\"Central Air Conditioning\", x), find(\"Flooring\", x)]\n",
    "\n",
    "def business(x):\n",
    "    return [find(\"Broadband Internet Access\", x), find(\"Satellite or Cable TV Ready\", x), find(\"Intercom\", x), find(\"Other Business and Communication Facilities\", x)]\n",
    "\n",
    "def health(x):\n",
    "    return [find(\"Lawn or Garden\", x), find(\"Sauna\", x) + find(\"Jacuzzi\", x), find(\"Swimming Pool\", x), find(\"Other Healthcare and Recreation Facilities\", x)]\n",
    "\n",
    "def facilities(x):\n",
    "    cols = ['Maintenance Staff','Security Staff','Facilities for Disabled','Other Facilities']\n",
    "    return [find(y,x) for y in cols]\n",
    "\n",
    "def nearby(x):\n",
    "    val = len([y for y in x.split(\" , \") if \"Nearby\" in y]) if x != \" \" else np.nan\n",
    "    return val\n",
    "\n",
    "\n",
    "def process(train):\n",
    "    train[\"nearbyVal\"] = [1 if len(x) > 1 else 0 for x in train[\"Nearby Locations and Other Facilities\"]]\n",
    "    train[\"bussinessVal\"] = [1 if len(x) > 1 else 0 for x in train[\"Business and Communication\"]]\n",
    "    train[\"staffVal\"] = [1 if len(x) > 1 else 0 for x in train[\"Other Facilities\"]]\n",
    "    train[\"healthVal\"] = [1 if len(x) > 1 else 0 for x in train[\"Healthcare Recreational\"]]\n",
    "    train[[\"Date\",\"Parking\",\"Floors\",\"Windows\", \"Flooring\", \"ElectricBackup\", \"WasteDisposal\", \"CentralAir\", \"CentralHeating\"]] = list(train[\"Main Features\"].apply(main_features))\n",
    "    train[[\"Servants\",\"Kitchens\",\"Store Rooms\", \"living\",\"healthRooms\",\"OtherRooms\", \"Steam Room\",\"Laundry Room\",\"Powder Room\",\"Study Room\",\"Drawing Room\",\"Dining Room\",\"Lounge\"]] = list(train.Rooms.apply(rooms))\n",
    "    train[[\"internet\",\"tv\",\"intercom\",\"otherBusiness\"]] = list(train[\"Business and Communication\"].apply(business))\n",
    "    train[[\"town\",\"city\",\"province\"]] = list(train.Location.apply(lambda x: x.split(\",\")))\n",
    "    train[[\"lawn\",\"hotTub\",\"pool\",\"otherHealth\"]] = list(train[\"Healthcare Recreational\"].apply(health))\n",
    "    train.Area = [\"\".join(x.split(\",\")) for x in train.Area]\n",
    "    train.Area = train.Area.apply(lambda x: float(x.split(\" \")[0]) if x.split(\" \")[1] == \"Marla\" else float(x.split(\" \")[0]) *20)\n",
    "    train[['MaintenanceStaff','SecurityStaff','FacilitiesDisabled','ExtraFacilities']] = list(train[\"Other Facilities\"].apply(facilities))\n",
    "    train[\"nearby2\"] = train[\"Nearby Locations and Other Facilities\"].apply(nearby)\n",
    "    train.Popular = train.Popular.replace(\"hot\",1).replace(\"super hot\",2)\n",
    "    train = pd.concat([train,pd.get_dummies(train.Location)],axis=1)\n",
    "    train[[\"Source\", \"SourceNum\"]] = [[\"-\".join(x.split(\"-\")[:-1]), x.split(\"-\")[-1] ]for x in train.Source]\n",
    "    train = pd.concat([train,pd.get_dummies(train.Source)],axis=1)\n",
    "    train = train.replace(\"-\",0)\n",
    "    train = train.drop([\"Title\",\"Label\",\"Date\", \"city\", \"province\", \"town\",\"Type\",\"Purpose\", \"Healthcare Recreational\", \"Other Facilities\", \"Rooms\",\"Nearby Locations and Other Facilities\",\"Main Features\", \"Source\", \"Time Stamp\", \"Description\", \"Location\", \"Business and Communication\"],axis=1)\n",
    "    train = train.fillna(0)\n",
    "    train = train.astype('int')\n",
    "    return train"
   ]
  },
  {
   "cell_type": "code",
   "execution_count": 7,
   "metadata": {},
   "outputs": [],
   "source": [
    "features = process(features)\n",
    "train = features[:len(y)]\n",
    "test = features[len(y):]\n",
    "train = train.values\n",
    "test = test.values\n"
   ]
  },
  {
   "cell_type": "code",
   "execution_count": 23,
   "metadata": {},
   "outputs": [],
   "source": [
    "#Set to False if you want to skip it\n",
    "X_train, X_test, y_train, y_test = train_test_split(train, y, test_size=0.33, random_state=42)\n",
    "OPTUNA_OPTIMIZATION = True\n",
    "N_SPLITS = 10 #Number of folds for validation\n",
    "N_TRIALS = 100 #Number of trials to find best hyperparameters"
   ]
  },
  {
   "cell_type": "code",
   "execution_count": 24,
   "metadata": {},
   "outputs": [],
   "source": [
    "def objective(trial, cv=StratifiedKFold(N_SPLITS, shuffle = True, random_state = 29)):\n",
    "    \n",
    "    \n",
    "    param_lgb = {\n",
    "        \"random_state\": trial.suggest_int(\"random_state\", 1, 100),\n",
    "        \"objective\": \"multiclass\",\n",
    "        \"verbosity\": -1,\n",
    "        \"boosting_type\": \"gbdt\",\n",
    "        \"reg_alpha\": trial.suggest_float(\"reg_alpha\", 1e-8, 10.0, log=True),\n",
    "        \"reg_lambda\": trial.suggest_float(\"reg_lambda\", 1e-8, 10.0, log=True),\n",
    "        \"max_depth\": trial.suggest_int(\"max_depth\", -1, 10),\n",
    "        \"n_estimators\": trial.suggest_int(\"n_estimators\", 50, 500),\n",
    "        \"num_leaves\": trial.suggest_int(\"num_leaves\", 2, 256),\n",
    "        \"colsample_bytree\": trial.suggest_float(\"colsample_bytree\", 0.4, 1.0),\n",
    "        \"subsample\": trial.suggest_float(\"subsample\", 0.4, 1.0),\n",
    "        \"subsample_freq\": trial.suggest_int(\"subsample_freq\", 1, 7),\n",
    "        \"min_child_samples\": trial.suggest_int(\"min_child_samples\", 5, 100),\n",
    "    }\n",
    "    \n",
    "    model = LGBMClassifier(**param_lgb)\n",
    "    \n",
    "    model.fit(X_train,y_train)\n",
    "    predictions = model.predict(X_test).round(0)\n",
    "    f1 = f1_score(y_test, predictions, average='macro')\n",
    "    print(\"F1 %s\" % (f1))\n",
    "    return np.average(f1)"
   ]
  },
  {
   "cell_type": "code",
   "execution_count": 25,
   "metadata": {
    "scrolled": false
   },
   "outputs": [
    {
     "name": "stderr",
     "output_type": "stream",
     "text": [
      "\u001b[32m[I 2021-03-22 22:07:05,461]\u001b[0m A new study created in memory with name: lgbm_parameter_opt\u001b[0m\n",
      "\u001b[32m[I 2021-03-22 22:07:15,362]\u001b[0m Trial 0 finished with value: 0.6337102958795647 and parameters: {'random_state': 14, 'reg_alpha': 0.0005145454903214353, 'reg_lambda': 0.002061895356657936, 'max_depth': 2, 'n_estimators': 454, 'num_leaves': 203, 'colsample_bytree': 0.4724075604101913, 'subsample': 0.5768261645540214, 'subsample_freq': 6, 'min_child_samples': 61}. Best is trial 0 with value: 0.6337102958795647.\u001b[0m\n"
     ]
    },
    {
     "name": "stdout",
     "output_type": "stream",
     "text": [
      "F1 0.6337102958795647\n"
     ]
    },
    {
     "name": "stderr",
     "output_type": "stream",
     "text": [
      "\u001b[32m[I 2021-03-22 22:07:50,385]\u001b[0m Trial 1 finished with value: 0.6538588636747774 and parameters: {'random_state': 49, 'reg_alpha': 0.06263438788489935, 'reg_lambda': 0.08181019944882222, 'max_depth': 8, 'n_estimators': 500, 'num_leaves': 141, 'colsample_bytree': 0.7936671498924196, 'subsample': 0.503692574076756, 'subsample_freq': 2, 'min_child_samples': 30}. Best is trial 1 with value: 0.6538588636747774.\u001b[0m\n"
     ]
    },
    {
     "name": "stdout",
     "output_type": "stream",
     "text": [
      "F1 0.6538588636747774\n"
     ]
    },
    {
     "name": "stderr",
     "output_type": "stream",
     "text": [
      "\u001b[32m[I 2021-03-22 22:08:06,427]\u001b[0m Trial 2 finished with value: 0.6431155623333389 and parameters: {'random_state': 13, 'reg_alpha': 1.0985753284221587e-06, 'reg_lambda': 0.036570962237742186, 'max_depth': 0, 'n_estimators': 404, 'num_leaves': 14, 'colsample_bytree': 0.9651731988611744, 'subsample': 0.48587551814435714, 'subsample_freq': 1, 'min_child_samples': 64}. Best is trial 1 with value: 0.6538588636747774.\u001b[0m\n"
     ]
    },
    {
     "name": "stdout",
     "output_type": "stream",
     "text": [
      "F1 0.6431155623333389\n"
     ]
    },
    {
     "name": "stderr",
     "output_type": "stream",
     "text": [
      "\u001b[32m[I 2021-03-22 22:08:23,843]\u001b[0m Trial 3 finished with value: 0.6585726020312306 and parameters: {'random_state': 37, 'reg_alpha': 2.5867218833715985e-05, 'reg_lambda': 0.0031405867984101612, 'max_depth': 5, 'n_estimators': 328, 'num_leaves': 157, 'colsample_bytree': 0.46372212960247017, 'subsample': 0.4361922394500766, 'subsample_freq': 2, 'min_child_samples': 48}. Best is trial 3 with value: 0.6585726020312306.\u001b[0m\n"
     ]
    },
    {
     "name": "stdout",
     "output_type": "stream",
     "text": [
      "F1 0.6585726020312306\n"
     ]
    },
    {
     "name": "stderr",
     "output_type": "stream",
     "text": [
      "\u001b[32m[I 2021-03-22 22:08:36,524]\u001b[0m Trial 4 finished with value: 0.6487207696331371 and parameters: {'random_state': 14, 'reg_alpha': 6.634878389314091e-06, 'reg_lambda': 1.1931537914729678e-07, 'max_depth': 3, 'n_estimators': 374, 'num_leaves': 190, 'colsample_bytree': 0.43963629379100255, 'subsample': 0.8788098176987912, 'subsample_freq': 4, 'min_child_samples': 45}. Best is trial 3 with value: 0.6585726020312306.\u001b[0m\n"
     ]
    },
    {
     "name": "stdout",
     "output_type": "stream",
     "text": [
      "F1 0.6487207696331371\n"
     ]
    },
    {
     "name": "stderr",
     "output_type": "stream",
     "text": [
      "\u001b[32m[I 2021-03-22 22:08:53,686]\u001b[0m Trial 5 finished with value: 0.6499600087849554 and parameters: {'random_state': 41, 'reg_alpha': 1.9366295698651802e-07, 'reg_lambda': 5.466112645254041e-07, 'max_depth': -1, 'n_estimators': 238, 'num_leaves': 121, 'colsample_bytree': 0.5046242099160465, 'subsample': 0.5091332439886325, 'subsample_freq': 7, 'min_child_samples': 60}. Best is trial 3 with value: 0.6585726020312306.\u001b[0m\n"
     ]
    },
    {
     "name": "stdout",
     "output_type": "stream",
     "text": [
      "F1 0.6499600087849554\n"
     ]
    },
    {
     "name": "stderr",
     "output_type": "stream",
     "text": [
      "\u001b[32m[I 2021-03-22 22:09:07,475]\u001b[0m Trial 6 finished with value: 0.640175200178436 and parameters: {'random_state': 75, 'reg_alpha': 0.01290327054659434, 'reg_lambda': 0.004761450072091903, 'max_depth': 9, 'n_estimators': 370, 'num_leaves': 90, 'colsample_bytree': 0.8222367813634408, 'subsample': 0.4187312140416458, 'subsample_freq': 1, 'min_child_samples': 100}. Best is trial 3 with value: 0.6585726020312306.\u001b[0m\n"
     ]
    },
    {
     "name": "stdout",
     "output_type": "stream",
     "text": [
      "F1 0.640175200178436\n"
     ]
    },
    {
     "name": "stderr",
     "output_type": "stream",
     "text": [
      "\u001b[32m[I 2021-03-22 22:09:18,851]\u001b[0m Trial 7 finished with value: 0.6334686386813598 and parameters: {'random_state': 75, 'reg_alpha': 0.06268261431651749, 'reg_lambda': 5.3548832689988464e-08, 'max_depth': 8, 'n_estimators': 172, 'num_leaves': 18, 'colsample_bytree': 0.8158460405591248, 'subsample': 0.5109964136732479, 'subsample_freq': 7, 'min_child_samples': 47}. Best is trial 3 with value: 0.6585726020312306.\u001b[0m\n"
     ]
    },
    {
     "name": "stdout",
     "output_type": "stream",
     "text": [
      "F1 0.6334686386813598\n"
     ]
    },
    {
     "name": "stderr",
     "output_type": "stream",
     "text": [
      "\u001b[32m[I 2021-03-22 22:09:54,873]\u001b[0m Trial 8 finished with value: 0.6622615707767502 and parameters: {'random_state': 68, 'reg_alpha': 0.007291375803911505, 'reg_lambda': 8.217291812426583e-08, 'max_depth': 8, 'n_estimators': 411, 'num_leaves': 94, 'colsample_bytree': 0.7402393229900903, 'subsample': 0.6927507650278377, 'subsample_freq': 4, 'min_child_samples': 33}. Best is trial 8 with value: 0.6622615707767502.\u001b[0m\n"
     ]
    },
    {
     "name": "stdout",
     "output_type": "stream",
     "text": [
      "F1 0.6622615707767502\n"
     ]
    },
    {
     "name": "stderr",
     "output_type": "stream",
     "text": [
      "\u001b[32m[I 2021-03-22 22:10:06,281]\u001b[0m Trial 9 finished with value: 0.6337753604489889 and parameters: {'random_state': 17, 'reg_alpha': 1.0739581458643506, 'reg_lambda': 0.006978422690247461, 'max_depth': 5, 'n_estimators': 333, 'num_leaves': 87, 'colsample_bytree': 0.6755173931618086, 'subsample': 0.4459853828682644, 'subsample_freq': 2, 'min_child_samples': 52}. Best is trial 8 with value: 0.6622615707767502.\u001b[0m\n"
     ]
    },
    {
     "name": "stdout",
     "output_type": "stream",
     "text": [
      "F1 0.6337753604489889\n"
     ]
    },
    {
     "name": "stderr",
     "output_type": "stream",
     "text": [
      "\u001b[32m[I 2021-03-22 22:10:14,190]\u001b[0m Trial 10 finished with value: 0.683134501784247 and parameters: {'random_state': 93, 'reg_alpha': 1.5712795774361554e-08, 'reg_lambda': 8.990776959198588, 'max_depth': 10, 'n_estimators': 70, 'num_leaves': 54, 'colsample_bytree': 0.6283944933167218, 'subsample': 0.7875684832567618, 'subsample_freq': 4, 'min_child_samples': 16}. Best is trial 10 with value: 0.683134501784247.\u001b[0m\n"
     ]
    },
    {
     "name": "stdout",
     "output_type": "stream",
     "text": [
      "F1 0.683134501784247\n"
     ]
    },
    {
     "name": "stderr",
     "output_type": "stream",
     "text": [
      "\u001b[32m[I 2021-03-22 22:10:22,707]\u001b[0m Trial 11 finished with value: 0.7107881926492846 and parameters: {'random_state': 100, 'reg_alpha': 0.0006804570353294483, 'reg_lambda': 5.813744005646348, 'max_depth': 10, 'n_estimators': 63, 'num_leaves': 52, 'colsample_bytree': 0.6349518109613261, 'subsample': 0.7920450968869542, 'subsample_freq': 4, 'min_child_samples': 5}. Best is trial 11 with value: 0.7107881926492846.\u001b[0m\n"
     ]
    },
    {
     "name": "stdout",
     "output_type": "stream",
     "text": [
      "F1 0.7107881926492846\n"
     ]
    },
    {
     "name": "stderr",
     "output_type": "stream",
     "text": [
      "\u001b[32m[I 2021-03-22 22:10:35,316]\u001b[0m Trial 12 finished with value: 0.6913522026568909 and parameters: {'random_state': 100, 'reg_alpha': 2.02110654088591e-08, 'reg_lambda': 9.29301136534265, 'max_depth': 10, 'n_estimators': 105, 'num_leaves': 45, 'colsample_bytree': 0.6073701901108902, 'subsample': 0.8912658774768343, 'subsample_freq': 5, 'min_child_samples': 5}. Best is trial 11 with value: 0.7107881926492846.\u001b[0m\n"
     ]
    },
    {
     "name": "stdout",
     "output_type": "stream",
     "text": [
      "F1 0.6913522026568909\n"
     ]
    },
    {
     "name": "stderr",
     "output_type": "stream",
     "text": [
      "\u001b[32m[I 2021-03-22 22:10:42,260]\u001b[0m Trial 13 finished with value: 0.6902678778310009 and parameters: {'random_state': 99, 'reg_alpha': 0.001059322179366865, 'reg_lambda': 2.846058579767514, 'max_depth': 10, 'n_estimators': 59, 'num_leaves': 38, 'colsample_bytree': 0.5775690247380786, 'subsample': 0.9723636809504859, 'subsample_freq': 5, 'min_child_samples': 5}. Best is trial 11 with value: 0.7107881926492846.\u001b[0m\n"
     ]
    },
    {
     "name": "stdout",
     "output_type": "stream",
     "text": [
      "F1 0.6902678778310009\n"
     ]
    },
    {
     "name": "stderr",
     "output_type": "stream",
     "text": [
      "\u001b[32m[I 2021-03-22 22:10:56,887]\u001b[0m Trial 14 finished with value: 0.6917597255705131 and parameters: {'random_state': 89, 'reg_alpha': 2.1783849866689215e-05, 'reg_lambda': 3.788077341198223e-05, 'max_depth': 7, 'n_estimators': 139, 'num_leaves': 248, 'colsample_bytree': 0.5897337051814535, 'subsample': 0.9758293742593686, 'subsample_freq': 5, 'min_child_samples': 5}. Best is trial 11 with value: 0.7107881926492846.\u001b[0m\n"
     ]
    },
    {
     "name": "stdout",
     "output_type": "stream",
     "text": [
      "F1 0.6917597255705131\n"
     ]
    },
    {
     "name": "stderr",
     "output_type": "stream",
     "text": [
      "\u001b[32m[I 2021-03-22 22:11:08,273]\u001b[0m Trial 15 finished with value: 0.6723825028210232 and parameters: {'random_state': 87, 'reg_alpha': 3.498271083781779e-05, 'reg_lambda': 1.1653044916924352e-05, 'max_depth': 6, 'n_estimators': 148, 'num_leaves': 233, 'colsample_bytree': 0.5206240088269267, 'subsample': 0.98736603842357, 'subsample_freq': 3, 'min_child_samples': 19}. Best is trial 11 with value: 0.7107881926492846.\u001b[0m\n"
     ]
    },
    {
     "name": "stdout",
     "output_type": "stream",
     "text": [
      "F1 0.6723825028210232\n"
     ]
    },
    {
     "name": "stderr",
     "output_type": "stream",
     "text": [
      "\u001b[32m[I 2021-03-22 22:11:17,697]\u001b[0m Trial 16 finished with value: 0.6487316069861448 and parameters: {'random_state': 86, 'reg_alpha': 0.0001269121399356459, 'reg_lambda': 2.955272705814463e-05, 'max_depth': 7, 'n_estimators': 207, 'num_leaves': 221, 'colsample_bytree': 0.6839781088586984, 'subsample': 0.7174464553305455, 'subsample_freq': 6, 'min_child_samples': 83}. Best is trial 11 with value: 0.7107881926492846.\u001b[0m\n"
     ]
    },
    {
     "name": "stdout",
     "output_type": "stream",
     "text": [
      "F1 0.6487316069861448\n"
     ]
    },
    {
     "name": "stderr",
     "output_type": "stream",
     "text": [
      "\u001b[32m[I 2021-03-22 22:11:32,703]\u001b[0m Trial 17 finished with value: 0.6717245171202068 and parameters: {'random_state': 63, 'reg_alpha': 2.3319981360229282e-06, 'reg_lambda': 7.56039062624393e-05, 'max_depth': 7, 'n_estimators': 103, 'num_leaves': 255, 'colsample_bytree': 0.5568989071410153, 'subsample': 0.8735985233699779, 'subsample_freq': 5, 'min_child_samples': 16}. Best is trial 11 with value: 0.7107881926492846.\u001b[0m\n"
     ]
    },
    {
     "name": "stdout",
     "output_type": "stream",
     "text": [
      "F1 0.6717245171202068\n"
     ]
    },
    {
     "name": "stderr",
     "output_type": "stream",
     "text": [
      "\u001b[32m[I 2021-03-22 22:11:37,835]\u001b[0m Trial 18 finished with value: 0.7179632815090908 and parameters: {'random_state': 85, 'reg_alpha': 1.168498390990133, 'reg_lambda': 3.468564860626664e-06, 'max_depth': 3, 'n_estimators': 132, 'num_leaves': 171, 'colsample_bytree': 0.40984260914693055, 'subsample': 0.7822602235599709, 'subsample_freq': 3, 'min_child_samples': 5}. Best is trial 18 with value: 0.7179632815090908.\u001b[0m\n"
     ]
    },
    {
     "name": "stdout",
     "output_type": "stream",
     "text": [
      "F1 0.7179632815090908\n"
     ]
    },
    {
     "name": "stderr",
     "output_type": "stream",
     "text": [
      "\u001b[32m[I 2021-03-22 22:11:45,551]\u001b[0m Trial 19 finished with value: 0.6581334289424738 and parameters: {'random_state': 100, 'reg_alpha': 1.7432691900158037, 'reg_lambda': 1.5597060646195966e-06, 'max_depth': 3, 'n_estimators': 267, 'num_leaves': 165, 'colsample_bytree': 0.9369316506845871, 'subsample': 0.7831952527107517, 'subsample_freq': 3, 'min_child_samples': 33}. Best is trial 18 with value: 0.7179632815090908.\u001b[0m\n"
     ]
    },
    {
     "name": "stdout",
     "output_type": "stream",
     "text": [
      "F1 0.6581334289424738\n"
     ]
    },
    {
     "name": "stderr",
     "output_type": "stream",
     "text": [
      "\u001b[32m[I 2021-03-22 22:11:48,302]\u001b[0m Trial 20 finished with value: 0.5512886960909273 and parameters: {'random_state': 78, 'reg_alpha': 3.8291145113553324, 'reg_lambda': 0.6548325556138755, 'max_depth': 1, 'n_estimators': 198, 'num_leaves': 113, 'colsample_bytree': 0.41882405016922397, 'subsample': 0.6311827718952783, 'subsample_freq': 3, 'min_child_samples': 22}. Best is trial 18 with value: 0.7179632815090908.\u001b[0m\n"
     ]
    },
    {
     "name": "stdout",
     "output_type": "stream",
     "text": [
      "F1 0.5512886960909273\n"
     ]
    },
    {
     "name": "stderr",
     "output_type": "stream",
     "text": [
      "\u001b[32m[I 2021-03-22 22:11:54,568]\u001b[0m Trial 21 finished with value: 0.657579027185031 and parameters: {'random_state': 87, 'reg_alpha': 1.7747068830826027e-07, 'reg_lambda': 0.00037479895674035304, 'max_depth': 4, 'n_estimators': 134, 'num_leaves': 179, 'colsample_bytree': 0.731125976154838, 'subsample': 0.7840947983789867, 'subsample_freq': 5, 'min_child_samples': 5}. Best is trial 18 with value: 0.7179632815090908.\u001b[0m\n"
     ]
    },
    {
     "name": "stdout",
     "output_type": "stream",
     "text": [
      "F1 0.657579027185031\n"
     ]
    },
    {
     "name": "stderr",
     "output_type": "stream",
     "text": [
      "\u001b[32m[I 2021-03-22 22:11:56,487]\u001b[0m Trial 22 finished with value: 0.7170621082654192 and parameters: {'random_state': 61, 'reg_alpha': 0.001968422002086441, 'reg_lambda': 4.052180542237464e-06, 'max_depth': 4, 'n_estimators': 50, 'num_leaves': 252, 'colsample_bytree': 0.6362204268830104, 'subsample': 0.9426936850829903, 'subsample_freq': 3, 'min_child_samples': 10}. Best is trial 18 with value: 0.7179632815090908.\u001b[0m\n"
     ]
    },
    {
     "name": "stdout",
     "output_type": "stream",
     "text": [
      "F1 0.7170621082654192\n"
     ]
    },
    {
     "name": "stderr",
     "output_type": "stream",
     "text": [
      "\u001b[32m[I 2021-03-22 22:11:57,818]\u001b[0m Trial 23 finished with value: 0.7038775344609458 and parameters: {'random_state': 56, 'reg_alpha': 0.0031331043218591763, 'reg_lambda': 2.6390797292774684e-06, 'max_depth': 3, 'n_estimators': 54, 'num_leaves': 215, 'colsample_bytree': 0.9037894416712595, 'subsample': 0.841476697357245, 'subsample_freq': 3, 'min_child_samples': 12}. Best is trial 18 with value: 0.7179632815090908.\u001b[0m\n"
     ]
    },
    {
     "name": "stdout",
     "output_type": "stream",
     "text": [
      "F1 0.7038775344609458\n"
     ]
    },
    {
     "name": "stderr",
     "output_type": "stream",
     "text": [
      "\u001b[32m[I 2021-03-22 22:12:01,307]\u001b[0m Trial 24 finished with value: 0.6520018472840653 and parameters: {'random_state': 28, 'reg_alpha': 0.2723388706366142, 'reg_lambda': 0.0002695270251530334, 'max_depth': 4, 'n_estimators': 94, 'num_leaves': 64, 'colsample_bytree': 0.651849106201253, 'subsample': 0.9244733870737734, 'subsample_freq': 3, 'min_child_samples': 26}. Best is trial 18 with value: 0.7179632815090908.\u001b[0m\n"
     ]
    },
    {
     "name": "stdout",
     "output_type": "stream",
     "text": [
      "F1 0.6520018472840653\n"
     ]
    },
    {
     "name": "stderr",
     "output_type": "stream",
     "text": [
      "\u001b[32m[I 2021-03-22 22:12:02,828]\u001b[0m Trial 25 finished with value: 0.6566837412783355 and parameters: {'random_state': 62, 'reg_alpha': 0.00023213764080615742, 'reg_lambda': 4.907261235331983e-07, 'max_depth': 2, 'n_estimators': 53, 'num_leaves': 144, 'colsample_bytree': 0.5442385221789818, 'subsample': 0.7260653733474096, 'subsample_freq': 2, 'min_child_samples': 11}. Best is trial 18 with value: 0.7179632815090908.\u001b[0m\n"
     ]
    },
    {
     "name": "stdout",
     "output_type": "stream",
     "text": [
      "F1 0.6566837412783355\n"
     ]
    },
    {
     "name": "stderr",
     "output_type": "stream",
     "text": [
      "\u001b[32m[I 2021-03-22 22:12:04,143]\u001b[0m Trial 26 finished with value: 0.6416403235451484 and parameters: {'random_state': 79, 'reg_alpha': 0.028980116771178663, 'reg_lambda': 5.6853282402018365e-06, 'max_depth': 1, 'n_estimators': 94, 'num_leaves': 71, 'colsample_bytree': 0.7389855766248379, 'subsample': 0.6774862898953284, 'subsample_freq': 4, 'min_child_samples': 11}. Best is trial 18 with value: 0.7179632815090908.\u001b[0m\n"
     ]
    },
    {
     "name": "stdout",
     "output_type": "stream",
     "text": [
      "F1 0.6416403235451484\n"
     ]
    },
    {
     "name": "stderr",
     "output_type": "stream",
     "text": [
      "\u001b[32m[I 2021-03-22 22:12:08,361]\u001b[0m Trial 27 finished with value: 0.4155482423919649 and parameters: {'random_state': 53, 'reg_alpha': 8.22494067377027, 'reg_lambda': 1.9845033734782587e-08, 'max_depth': 5, 'n_estimators': 177, 'num_leaves': 239, 'colsample_bytree': 0.40917928243964596, 'subsample': 0.8188723767721771, 'subsample_freq': 3, 'min_child_samples': 39}. Best is trial 18 with value: 0.7179632815090908.\u001b[0m\n"
     ]
    },
    {
     "name": "stdout",
     "output_type": "stream",
     "text": [
      "F1 0.4155482423919649\n"
     ]
    },
    {
     "name": "stderr",
     "output_type": "stream",
     "text": [
      "\u001b[32m[I 2021-03-22 22:12:09,431]\u001b[0m Trial 28 finished with value: 0.6127737403745344 and parameters: {'random_state': 94, 'reg_alpha': 0.33085093740792393, 'reg_lambda': 4.7083258708768575e-07, 'max_depth': 2, 'n_estimators': 51, 'num_leaves': 178, 'colsample_bytree': 0.8786762679910838, 'subsample': 0.9293141196257126, 'subsample_freq': 4, 'min_child_samples': 76}. Best is trial 18 with value: 0.7179632815090908.\u001b[0m\n"
     ]
    },
    {
     "name": "stdout",
     "output_type": "stream",
     "text": [
      "F1 0.6127737403745344\n"
     ]
    },
    {
     "name": "stderr",
     "output_type": "stream",
     "text": [
      "\u001b[32m[I 2021-03-22 22:12:15,168]\u001b[0m Trial 29 finished with value: 0.6606128822979422 and parameters: {'random_state': 68, 'reg_alpha': 0.0011326849875868054, 'reg_lambda': 0.000538394308853475, 'max_depth': 4, 'n_estimators': 119, 'num_leaves': 202, 'colsample_bytree': 0.4921593429575738, 'subsample': 0.6174337088660764, 'subsample_freq': 6, 'min_child_samples': 20}. Best is trial 18 with value: 0.7179632815090908.\u001b[0m\n"
     ]
    },
    {
     "name": "stdout",
     "output_type": "stream",
     "text": [
      "F1 0.6606128822979422\n"
     ]
    },
    {
     "name": "stderr",
     "output_type": "stream",
     "text": [
      "\u001b[32m[I 2021-03-22 22:12:19,739]\u001b[0m Trial 30 finished with value: 0.6717522528938894 and parameters: {'random_state': 1, 'reg_alpha': 0.00291170647586612, 'reg_lambda': 1.1593396607174391e-08, 'max_depth': 6, 'n_estimators': 72, 'num_leaves': 135, 'colsample_bytree': 0.6244882112533569, 'subsample': 0.7426554968484897, 'subsample_freq': 2, 'min_child_samples': 11}. Best is trial 18 with value: 0.7179632815090908.\u001b[0m\n"
     ]
    },
    {
     "name": "stdout",
     "output_type": "stream",
     "text": [
      "F1 0.6717522528938894\n"
     ]
    },
    {
     "name": "stderr",
     "output_type": "stream",
     "text": [
      "\u001b[32m[I 2021-03-22 22:12:21,324]\u001b[0m Trial 31 finished with value: 0.7179842951673423 and parameters: {'random_state': 54, 'reg_alpha': 0.0005343341971548167, 'reg_lambda': 3.507168285970607e-06, 'max_depth': 3, 'n_estimators': 50, 'num_leaves': 216, 'colsample_bytree': 0.8776769160449459, 'subsample': 0.8260585297372462, 'subsample_freq': 3, 'min_child_samples': 10}. Best is trial 31 with value: 0.7179842951673423.\u001b[0m\n"
     ]
    },
    {
     "name": "stdout",
     "output_type": "stream",
     "text": [
      "F1 0.7179842951673423\n"
     ]
    },
    {
     "name": "stderr",
     "output_type": "stream",
     "text": [
      "\u001b[32m[I 2021-03-22 22:12:24,015]\u001b[0m Trial 32 finished with value: 0.667426165233328 and parameters: {'random_state': 44, 'reg_alpha': 0.00015687593260362993, 'reg_lambda': 6.57402705257788e-06, 'max_depth': 3, 'n_estimators': 80, 'num_leaves': 193, 'colsample_bytree': 0.7842868717047454, 'subsample': 0.8318671036493093, 'subsample_freq': 3, 'min_child_samples': 26}. Best is trial 31 with value: 0.7179842951673423.\u001b[0m\n"
     ]
    },
    {
     "name": "stdout",
     "output_type": "stream",
     "text": [
      "F1 0.667426165233328\n"
     ]
    },
    {
     "name": "stderr",
     "output_type": "stream",
     "text": [
      "\u001b[32m[I 2021-03-22 22:12:24,638]\u001b[0m Trial 33 finished with value: 0.6309912101755323 and parameters: {'random_state': 50, 'reg_alpha': 0.0005773435016739774, 'reg_lambda': 0.00010407529276723517, 'max_depth': 1, 'n_estimators': 52, 'num_leaves': 218, 'colsample_bytree': 0.7116768140591778, 'subsample': 0.7489513007543711, 'subsample_freq': 1, 'min_child_samples': 5}. Best is trial 31 with value: 0.7179842951673423.\u001b[0m\n"
     ]
    },
    {
     "name": "stdout",
     "output_type": "stream",
     "text": [
      "F1 0.6309912101755323\n"
     ]
    },
    {
     "name": "stderr",
     "output_type": "stream",
     "text": [
      "\u001b[32m[I 2021-03-22 22:12:33,117]\u001b[0m Trial 34 finished with value: 0.6560722270726405 and parameters: {'random_state': 59, 'reg_alpha': 8.60812839794878e-05, 'reg_lambda': 1.767842554496261e-06, 'max_depth': 2, 'n_estimators': 499, 'num_leaves': 166, 'colsample_bytree': 0.8640022681556874, 'subsample': 0.9285149441492979, 'subsample_freq': 2, 'min_child_samples': 26}. Best is trial 31 with value: 0.7179842951673423.\u001b[0m\n"
     ]
    },
    {
     "name": "stdout",
     "output_type": "stream",
     "text": [
      "F1 0.6560722270726405\n"
     ]
    },
    {
     "name": "stderr",
     "output_type": "stream",
     "text": [
      "\u001b[32m[I 2021-03-22 22:12:39,486]\u001b[0m Trial 35 finished with value: 0.6685375285154354 and parameters: {'random_state': 27, 'reg_alpha': 0.09027452978225192, 'reg_lambda': 1.4893730317084307e-05, 'max_depth': 4, 'n_estimators': 165, 'num_leaves': 256, 'colsample_bytree': 0.9919090832407182, 'subsample': 0.8490501204540506, 'subsample_freq': 4, 'min_child_samples': 13}. Best is trial 31 with value: 0.7179842951673423.\u001b[0m\n"
     ]
    },
    {
     "name": "stdout",
     "output_type": "stream",
     "text": [
      "F1 0.6685375285154354\n"
     ]
    },
    {
     "name": "stderr",
     "output_type": "stream",
     "text": [
      "\u001b[32m[I 2021-03-22 22:12:44,604]\u001b[0m Trial 36 finished with value: 0.6734019848890239 and parameters: {'random_state': 69, 'reg_alpha': 0.0037350645465574588, 'reg_lambda': 1.8382584677896815e-07, 'max_depth': 3, 'n_estimators': 108, 'num_leaves': 229, 'colsample_bytree': 0.6560047395247856, 'subsample': 0.7929224121410974, 'subsample_freq': 2, 'min_child_samples': 9}. Best is trial 31 with value: 0.7179842951673423.\u001b[0m\n"
     ]
    },
    {
     "name": "stdout",
     "output_type": "stream",
     "text": [
      "F1 0.6734019848890239\n"
     ]
    },
    {
     "name": "stderr",
     "output_type": "stream",
     "text": [
      "\u001b[32m[I 2021-03-22 22:13:04,348]\u001b[0m Trial 37 finished with value: 0.6542738214058875 and parameters: {'random_state': 34, 'reg_alpha': 1.1659872264825657e-05, 'reg_lambda': 0.04037582882679957, 'max_depth': 0, 'n_estimators': 129, 'num_leaves': 202, 'colsample_bytree': 0.4420925921845531, 'subsample': 0.8959362155482031, 'subsample_freq': 3, 'min_child_samples': 39}. Best is trial 31 with value: 0.7179842951673423.\u001b[0m\n"
     ]
    },
    {
     "name": "stdout",
     "output_type": "stream",
     "text": [
      "F1 0.6542738214058875\n"
     ]
    },
    {
     "name": "stderr",
     "output_type": "stream",
     "text": [
      "\u001b[32m[I 2021-03-22 22:13:08,388]\u001b[0m Trial 38 finished with value: 0.6610462276252856 and parameters: {'random_state': 44, 'reg_alpha': 0.017431829190515183, 'reg_lambda': 0.267692453110056, 'max_depth': 6, 'n_estimators': 242, 'num_leaves': 3, 'colsample_bytree': 0.7734469881131945, 'subsample': 0.6509361026813814, 'subsample_freq': 4, 'min_child_samples': 18}. Best is trial 31 with value: 0.7179842951673423.\u001b[0m\n"
     ]
    },
    {
     "name": "stdout",
     "output_type": "stream",
     "text": [
      "F1 0.6610462276252856\n"
     ]
    },
    {
     "name": "stderr",
     "output_type": "stream",
     "text": [
      "\u001b[32m[I 2021-03-22 22:13:13,075]\u001b[0m Trial 39 finished with value: 0.6445129079601617 and parameters: {'random_state': 73, 'reg_alpha': 0.0006249254223147095, 'reg_lambda': 9.789318528230149e-07, 'max_depth': 5, 'n_estimators': 91, 'num_leaves': 155, 'colsample_bytree': 0.8290699873273386, 'subsample': 0.7624020057867392, 'subsample_freq': 1, 'min_child_samples': 98}. Best is trial 31 with value: 0.7179842951673423.\u001b[0m\n"
     ]
    },
    {
     "name": "stdout",
     "output_type": "stream",
     "text": [
      "F1 0.6445129079601617\n"
     ]
    },
    {
     "name": "stderr",
     "output_type": "stream",
     "text": [
      "\u001b[32m[I 2021-03-22 22:13:18,560]\u001b[0m Trial 40 finished with value: 0.6574222059395965 and parameters: {'random_state': 80, 'reg_alpha': 0.007312064881195248, 'reg_lambda': 0.0017476392310515076, 'max_depth': 0, 'n_estimators': 78, 'num_leaves': 115, 'colsample_bytree': 0.9923856862184073, 'subsample': 0.8569048963040643, 'subsample_freq': 3, 'min_child_samples': 64}. Best is trial 31 with value: 0.7179842951673423.\u001b[0m\n"
     ]
    },
    {
     "name": "stdout",
     "output_type": "stream",
     "text": [
      "F1 0.6574222059395965\n"
     ]
    },
    {
     "name": "stderr",
     "output_type": "stream",
     "text": [
      "\u001b[32m[I 2021-03-22 22:13:20,055]\u001b[0m Trial 41 finished with value: 0.680747350733122 and parameters: {'random_state': 56, 'reg_alpha': 0.0024443526325367997, 'reg_lambda': 4.342355619916976e-06, 'max_depth': 3, 'n_estimators': 54, 'num_leaves': 212, 'colsample_bytree': 0.9012460204172438, 'subsample': 0.8125726318852782, 'subsample_freq': 3, 'min_child_samples': 8}. Best is trial 31 with value: 0.7179842951673423.\u001b[0m\n"
     ]
    },
    {
     "name": "stdout",
     "output_type": "stream",
     "text": [
      "F1 0.680747350733122\n"
     ]
    },
    {
     "name": "stderr",
     "output_type": "stream",
     "text": [
      "\u001b[32m[I 2021-03-22 22:13:21,437]\u001b[0m Trial 42 finished with value: 0.6592535734198547 and parameters: {'random_state': 49, 'reg_alpha': 4.9092001034535654e-05, 'reg_lambda': 3.2635921968010065e-06, 'max_depth': 3, 'n_estimators': 50, 'num_leaves': 242, 'colsample_bytree': 0.9385339243679031, 'subsample': 0.8470261930508508, 'subsample_freq': 2, 'min_child_samples': 14}. Best is trial 31 with value: 0.7179842951673423.\u001b[0m\n"
     ]
    },
    {
     "name": "stdout",
     "output_type": "stream",
     "text": [
      "F1 0.6592535734198547\n"
     ]
    },
    {
     "name": "stderr",
     "output_type": "stream",
     "text": [
      "\u001b[32m[I 2021-03-22 22:13:22,839]\u001b[0m Trial 43 finished with value: 0.6764860958250789 and parameters: {'random_state': 55, 'reg_alpha': 0.0005106897152240748, 'reg_lambda': 4.1800001092514844e-07, 'max_depth': 2, 'n_estimators': 77, 'num_leaves': 186, 'colsample_bytree': 0.901600018517323, 'subsample': 0.9007033419855777, 'subsample_freq': 3, 'min_child_samples': 8}. Best is trial 31 with value: 0.7179842951673423.\u001b[0m\n"
     ]
    },
    {
     "name": "stdout",
     "output_type": "stream",
     "text": [
      "F1 0.6764860958250789\n"
     ]
    },
    {
     "name": "stderr",
     "output_type": "stream",
     "text": [
      "\u001b[32m[I 2021-03-22 22:13:24,582]\u001b[0m Trial 44 finished with value: 0.6462612554498367 and parameters: {'random_state': 62, 'reg_alpha': 0.0015396391648635195, 'reg_lambda': 1.9725915821628785e-07, 'max_depth': 4, 'n_estimators': 50, 'num_leaves': 215, 'colsample_bytree': 0.8574977468679752, 'subsample': 0.8228168507013113, 'subsample_freq': 4, 'min_child_samples': 22}. Best is trial 31 with value: 0.7179842951673423.\u001b[0m\n"
     ]
    },
    {
     "name": "stdout",
     "output_type": "stream",
     "text": [
      "F1 0.6462612554498367\n"
     ]
    },
    {
     "name": "stderr",
     "output_type": "stream",
     "text": [
      "\u001b[32m[I 2021-03-22 22:13:29,678]\u001b[0m Trial 45 finished with value: 0.6493270790268022 and parameters: {'random_state': 41, 'reg_alpha': 0.038611107115539424, 'reg_lambda': 5.552067302419145e-08, 'max_depth': 3, 'n_estimators': 160, 'num_leaves': 225, 'colsample_bytree': 0.9684961894715329, 'subsample': 0.7599297666387425, 'subsample_freq': 2, 'min_child_samples': 16}. Best is trial 31 with value: 0.7179842951673423.\u001b[0m\n"
     ]
    },
    {
     "name": "stdout",
     "output_type": "stream",
     "text": [
      "F1 0.6493270790268022\n"
     ]
    },
    {
     "name": "stderr",
     "output_type": "stream",
     "text": [
      "\u001b[32m[I 2021-03-22 22:13:36,071]\u001b[0m Trial 46 finished with value: 0.6906652577332127 and parameters: {'random_state': 48, 'reg_alpha': 0.00027003885217977396, 'reg_lambda': 2.5706043616895615e-05, 'max_depth': 5, 'n_estimators': 123, 'num_leaves': 26, 'colsample_bytree': 0.7689252539323677, 'subsample': 0.952614522446806, 'subsample_freq': 4, 'min_child_samples': 6}. Best is trial 31 with value: 0.7179842951673423.\u001b[0m\n"
     ]
    },
    {
     "name": "stdout",
     "output_type": "stream",
     "text": [
      "F1 0.6906652577332127\n"
     ]
    },
    {
     "name": "stderr",
     "output_type": "stream",
     "text": [
      "\u001b[32m[I 2021-03-22 22:13:38,579]\u001b[0m Trial 47 finished with value: 0.661095505300711 and parameters: {'random_state': 93, 'reg_alpha': 0.006567895769196687, 'reg_lambda': 2.321808120566443e-06, 'max_depth': 4, 'n_estimators': 73, 'num_leaves': 208, 'colsample_bytree': 0.8144425918880601, 'subsample': 0.8633356774063048, 'subsample_freq': 3, 'min_child_samples': 30}. Best is trial 31 with value: 0.7179842951673423.\u001b[0m\n"
     ]
    },
    {
     "name": "stdout",
     "output_type": "stream",
     "text": [
      "F1 0.661095505300711\n"
     ]
    },
    {
     "name": "stderr",
     "output_type": "stream",
     "text": [
      "\u001b[32m[I 2021-03-22 22:13:41,522]\u001b[0m Trial 48 finished with value: 0.6518902253457618 and parameters: {'random_state': 72, 'reg_alpha': 0.1116885151760007, 'reg_lambda': 6.499083387690299e-05, 'max_depth': 1, 'n_estimators': 305, 'num_leaves': 247, 'colsample_bytree': 0.7028224343578722, 'subsample': 0.7031515247920954, 'subsample_freq': 4, 'min_child_samples': 13}. Best is trial 31 with value: 0.7179842951673423.\u001b[0m\n"
     ]
    },
    {
     "name": "stdout",
     "output_type": "stream",
     "text": [
      "F1 0.6518902253457618\n"
     ]
    },
    {
     "name": "stderr",
     "output_type": "stream",
     "text": [
      "\u001b[32m[I 2021-03-22 22:13:43,202]\u001b[0m Trial 49 finished with value: 0.6402322108530489 and parameters: {'random_state': 67, 'reg_alpha': 0.01165670325978478, 'reg_lambda': 1.4256527857190048e-05, 'max_depth': 2, 'n_estimators': 112, 'num_leaves': 196, 'colsample_bytree': 0.9301219566506042, 'subsample': 0.7826159396743084, 'subsample_freq': 3, 'min_child_samples': 23}. Best is trial 31 with value: 0.7179842951673423.\u001b[0m\n"
     ]
    },
    {
     "name": "stdout",
     "output_type": "stream",
     "text": [
      "F1 0.6402322108530489\n"
     ]
    },
    {
     "name": "stderr",
     "output_type": "stream",
     "text": [
      "\u001b[32m[I 2021-03-22 22:14:15,175]\u001b[0m Trial 50 finished with value: 0.6703602101863967 and parameters: {'random_state': 83, 'reg_alpha': 4.714286425113321e-06, 'reg_lambda': 9.776478181368528e-07, 'max_depth': 9, 'n_estimators': 205, 'num_leaves': 151, 'colsample_bytree': 0.5918604167700791, 'subsample': 0.8073028497182616, 'subsample_freq': 5, 'min_child_samples': 17}. Best is trial 31 with value: 0.7179842951673423.\u001b[0m\n"
     ]
    },
    {
     "name": "stdout",
     "output_type": "stream",
     "text": [
      "F1 0.6703602101863967\n"
     ]
    },
    {
     "name": "stderr",
     "output_type": "stream",
     "text": [
      "\u001b[32m[I 2021-03-22 22:14:36,209]\u001b[0m Trial 51 finished with value: 0.6785058864217661 and parameters: {'random_state': 90, 'reg_alpha': 1.3276455086088538e-05, 'reg_lambda': 6.053115573039127e-05, 'max_depth': 9, 'n_estimators': 142, 'num_leaves': 246, 'colsample_bytree': 0.6443053044459816, 'subsample': 0.9774899116220863, 'subsample_freq': 5, 'min_child_samples': 5}. Best is trial 31 with value: 0.7179842951673423.\u001b[0m\n"
     ]
    },
    {
     "name": "stdout",
     "output_type": "stream",
     "text": [
      "F1 0.6785058864217661\n"
     ]
    },
    {
     "name": "stderr",
     "output_type": "stream",
     "text": [
      "\u001b[32m[I 2021-03-22 22:14:51,857]\u001b[0m Trial 52 finished with value: 0.6751995544693951 and parameters: {'random_state': 96, 'reg_alpha': 4.837093457461037e-07, 'reg_lambda': 2.854649808956548e-05, 'max_depth': 7, 'n_estimators': 154, 'num_leaves': 236, 'colsample_bytree': 0.6015278375982043, 'subsample': 0.9613049640347341, 'subsample_freq': 5, 'min_child_samples': 10}. Best is trial 31 with value: 0.7179842951673423.\u001b[0m\n"
     ]
    },
    {
     "name": "stdout",
     "output_type": "stream",
     "text": [
      "F1 0.6751995544693951\n"
     ]
    },
    {
     "name": "stderr",
     "output_type": "stream",
     "text": [
      "\u001b[32m[I 2021-03-22 22:15:07,527]\u001b[0m Trial 53 finished with value: 0.686715075008463 and parameters: {'random_state': 98, 'reg_alpha': 2.3273361645561532e-05, 'reg_lambda': 9.519917276177991e-06, 'max_depth': 6, 'n_estimators': 178, 'num_leaves': 168, 'colsample_bytree': 0.5473958090152881, 'subsample': 0.9115716548341753, 'subsample_freq': 6, 'min_child_samples': 5}. Best is trial 31 with value: 0.7179842951673423.\u001b[0m\n"
     ]
    },
    {
     "name": "stdout",
     "output_type": "stream",
     "text": [
      "F1 0.686715075008463\n"
     ]
    },
    {
     "name": "stderr",
     "output_type": "stream",
     "text": [
      "\u001b[32m[I 2021-03-22 22:15:09,870]\u001b[0m Trial 54 finished with value: 0.6692547357926221 and parameters: {'random_state': 90, 'reg_alpha': 0.00040243075623163505, 'reg_lambda': 3.353591347177215e-06, 'max_depth': 3, 'n_estimators': 89, 'num_leaves': 253, 'colsample_bytree': 0.6789710316414739, 'subsample': 0.885784825049639, 'subsample_freq': 4, 'min_child_samples': 15}. Best is trial 31 with value: 0.7179842951673423.\u001b[0m\n"
     ]
    },
    {
     "name": "stdout",
     "output_type": "stream",
     "text": [
      "F1 0.6692547357926221\n"
     ]
    },
    {
     "name": "stderr",
     "output_type": "stream",
     "text": [
      "\u001b[32m[I 2021-03-22 22:15:43,480]\u001b[0m Trial 55 finished with value: 0.6828085408475316 and parameters: {'random_state': 58, 'reg_alpha': 6.027547104138026e-05, 'reg_lambda': 0.00012988687608379759, 'max_depth': 8, 'n_estimators': 222, 'num_leaves': 97, 'colsample_bytree': 0.5792510910175679, 'subsample': 0.9906736791742206, 'subsample_freq': 3, 'min_child_samples': 9}. Best is trial 31 with value: 0.7179842951673423.\u001b[0m\n"
     ]
    },
    {
     "name": "stdout",
     "output_type": "stream",
     "text": [
      "F1 0.6828085408475316\n"
     ]
    },
    {
     "name": "stderr",
     "output_type": "stream",
     "text": [
      "\u001b[32m[I 2021-03-22 22:15:48,201]\u001b[0m Trial 56 finished with value: 0.7059610724604445 and parameters: {'random_state': 63, 'reg_alpha': 4.153456082007105e-06, 'reg_lambda': 9.829641901737786e-07, 'max_depth': 5, 'n_estimators': 63, 'num_leaves': 179, 'colsample_bytree': 0.46391056406527276, 'subsample': 0.9518865051323723, 'subsample_freq': 6, 'min_child_samples': 5}. Best is trial 31 with value: 0.7179842951673423.\u001b[0m\n"
     ]
    },
    {
     "name": "stdout",
     "output_type": "stream",
     "text": [
      "F1 0.7059610724604445\n"
     ]
    },
    {
     "name": "stderr",
     "output_type": "stream",
     "text": [
      "\u001b[32m[I 2021-03-22 22:15:51,810]\u001b[0m Trial 57 finished with value: 0.6636660992881953 and parameters: {'random_state': 64, 'reg_alpha': 2.5027585044368935e-06, 'reg_lambda': 3.15691360840226e-08, 'max_depth': 4, 'n_estimators': 65, 'num_leaves': 187, 'colsample_bytree': 0.5116574695726599, 'subsample': 0.9993009483955262, 'subsample_freq': 2, 'min_child_samples': 13}. Best is trial 31 with value: 0.7179842951673423.\u001b[0m\n"
     ]
    },
    {
     "name": "stdout",
     "output_type": "stream",
     "text": [
      "F1 0.6636660992881953\n"
     ]
    },
    {
     "name": "stderr",
     "output_type": "stream",
     "text": [
      "\u001b[32m[I 2021-03-22 22:16:13,840]\u001b[0m Trial 58 finished with value: 0.6635090522007674 and parameters: {'random_state': 47, 'reg_alpha': 0.0009296480915256875, 'reg_lambda': 1.2772652075038026e-07, 'max_depth': -1, 'n_estimators': 102, 'num_leaves': 124, 'colsample_bytree': 0.4586814076184288, 'subsample': 0.9385874310798151, 'subsample_freq': 7, 'min_child_samples': 20}. Best is trial 31 with value: 0.7179842951673423.\u001b[0m\n"
     ]
    },
    {
     "name": "stdout",
     "output_type": "stream",
     "text": [
      "F1 0.6635090522007674\n"
     ]
    },
    {
     "name": "stderr",
     "output_type": "stream",
     "text": [
      "\u001b[32m[I 2021-03-22 22:16:19,470]\u001b[0m Trial 59 finished with value: 0.6834403656823934 and parameters: {'random_state': 54, 'reg_alpha': 8.431855829246351e-08, 'reg_lambda': 1.0258208024641064e-06, 'max_depth': 5, 'n_estimators': 64, 'num_leaves': 172, 'colsample_bytree': 0.40201487644395867, 'subsample': 0.8770852273351669, 'subsample_freq': 6, 'min_child_samples': 8}. Best is trial 31 with value: 0.7179842951673423.\u001b[0m\n"
     ]
    },
    {
     "name": "stdout",
     "output_type": "stream",
     "text": [
      "F1 0.6834403656823934\n"
     ]
    },
    {
     "name": "stderr",
     "output_type": "stream",
     "text": [
      "\u001b[32m[I 2021-03-22 22:16:21,954]\u001b[0m Trial 60 finished with value: 0.7380083655886196 and parameters: {'random_state': 61, 'reg_alpha': 0.4525091237132954, 'reg_lambda': 2.5399954074827033e-07, 'max_depth': 2, 'n_estimators': 87, 'num_leaves': 182, 'colsample_bytree': 0.48441095839104714, 'subsample': 0.7696212888666587, 'subsample_freq': 3, 'min_child_samples': 5}. Best is trial 60 with value: 0.7380083655886196.\u001b[0m\n"
     ]
    },
    {
     "name": "stdout",
     "output_type": "stream",
     "text": [
      "F1 0.7380083655886196\n"
     ]
    },
    {
     "name": "stderr",
     "output_type": "stream",
     "text": [
      "\u001b[32m[I 2021-03-22 22:16:23,895]\u001b[0m Trial 61 finished with value: 0.7074738986503692 and parameters: {'random_state': 60, 'reg_alpha': 1.358152399661675, 'reg_lambda': 2.7036126657727337e-07, 'max_depth': 2, 'n_estimators': 85, 'num_leaves': 180, 'colsample_bytree': 0.4907870885367049, 'subsample': 0.7254081598230843, 'subsample_freq': 3, 'min_child_samples': 5}. Best is trial 60 with value: 0.7380083655886196.\u001b[0m\n"
     ]
    },
    {
     "name": "stdout",
     "output_type": "stream",
     "text": [
      "F1 0.7074738986503692\n"
     ]
    },
    {
     "name": "stderr",
     "output_type": "stream",
     "text": [
      "\u001b[32m[I 2021-03-22 22:16:25,106]\u001b[0m Trial 62 finished with value: 0.6967993691735161 and parameters: {'random_state': 61, 'reg_alpha': 0.9991292047352063, 'reg_lambda': 3.222280688698021e-07, 'max_depth': 1, 'n_estimators': 87, 'num_leaves': 179, 'colsample_bytree': 0.48044900356234677, 'subsample': 0.7190795385354498, 'subsample_freq': 3, 'min_child_samples': 6}. Best is trial 60 with value: 0.7380083655886196.\u001b[0m\n"
     ]
    },
    {
     "name": "stdout",
     "output_type": "stream",
     "text": [
      "F1 0.6967993691735161\n"
     ]
    },
    {
     "name": "stderr",
     "output_type": "stream",
     "text": [
      "\u001b[32m[I 2021-03-22 22:16:27,483]\u001b[0m Trial 63 finished with value: 0.6773764585783343 and parameters: {'random_state': 66, 'reg_alpha': 3.104975188186463, 'reg_lambda': 4.950888807877995e-08, 'max_depth': 2, 'n_estimators': 117, 'num_leaves': 160, 'colsample_bytree': 0.4365125112898781, 'subsample': 0.6913318857126175, 'subsample_freq': 3, 'min_child_samples': 5}. Best is trial 60 with value: 0.7380083655886196.\u001b[0m\n"
     ]
    },
    {
     "name": "stdout",
     "output_type": "stream",
     "text": [
      "F1 0.6773764585783343\n"
     ]
    },
    {
     "name": "stderr",
     "output_type": "stream",
     "text": [
      "\u001b[32m[I 2021-03-22 22:16:28,999]\u001b[0m Trial 64 finished with value: 0.6213609871866367 and parameters: {'random_state': 71, 'reg_alpha': 0.2847240200378703, 'reg_lambda': 2.138358567082726e-07, 'max_depth': 2, 'n_estimators': 66, 'num_leaves': 139, 'colsample_bytree': 0.5301630956076204, 'subsample': 0.6575754999909397, 'subsample_freq': 2, 'min_child_samples': 53}. Best is trial 60 with value: 0.7380083655886196.\u001b[0m\n"
     ]
    },
    {
     "name": "stdout",
     "output_type": "stream",
     "text": [
      "F1 0.6213609871866367\n"
     ]
    },
    {
     "name": "stderr",
     "output_type": "stream",
     "text": [
      "\u001b[32m[I 2021-03-22 22:16:44,917]\u001b[0m Trial 65 finished with value: 0.6775374095310877 and parameters: {'random_state': 52, 'reg_alpha': 0.712040807252619, 'reg_lambda': 9.845951574062626e-08, 'max_depth': 0, 'n_estimators': 99, 'num_leaves': 150, 'colsample_bytree': 0.47013158816986916, 'subsample': 0.7759977198933554, 'subsample_freq': 3, 'min_child_samples': 9}. Best is trial 60 with value: 0.7380083655886196.\u001b[0m\n"
     ]
    },
    {
     "name": "stdout",
     "output_type": "stream",
     "text": [
      "F1 0.6775374095310877\n"
     ]
    },
    {
     "name": "stderr",
     "output_type": "stream",
     "text": [
      "\u001b[32m[I 2021-03-22 22:16:46,734]\u001b[0m Trial 66 finished with value: 0.4017660593644747 and parameters: {'random_state': 76, 'reg_alpha': 9.456488157139066, 'reg_lambda': 7.897084446776757e-07, 'max_depth': 1, 'n_estimators': 132, 'num_leaves': 176, 'colsample_bytree': 0.4223773894197068, 'subsample': 0.7397276734008235, 'subsample_freq': 7, 'min_child_samples': 12}. Best is trial 60 with value: 0.7380083655886196.\u001b[0m\n"
     ]
    },
    {
     "name": "stdout",
     "output_type": "stream",
     "text": [
      "F1 0.4017660593644747\n"
     ]
    },
    {
     "name": "stderr",
     "output_type": "stream",
     "text": [
      "\u001b[32m[I 2021-03-22 22:16:48,820]\u001b[0m Trial 67 finished with value: 0.5515086123564814 and parameters: {'random_state': 65, 'reg_alpha': 4.429320855936723, 'reg_lambda': 1.399727481073488e-08, 'max_depth': 3, 'n_estimators': 82, 'num_leaves': 185, 'colsample_bytree': 0.49357330700591323, 'subsample': 0.8040424125330842, 'subsample_freq': 4, 'min_child_samples': 72}. Best is trial 60 with value: 0.7380083655886196.\u001b[0m\n"
     ]
    },
    {
     "name": "stdout",
     "output_type": "stream",
     "text": [
      "F1 0.5515086123564814\n"
     ]
    },
    {
     "name": "stderr",
     "output_type": "stream",
     "text": [
      "\u001b[32m[I 2021-03-22 22:16:56,283]\u001b[0m Trial 68 finished with value: 0.6508850174260293 and parameters: {'random_state': 59, 'reg_alpha': 0.507089071689394, 'reg_lambda': 1.3779081642141453e-06, 'max_depth': 2, 'n_estimators': 369, 'num_leaves': 195, 'colsample_bytree': 0.5629067960798597, 'subsample': 0.5682543717004167, 'subsample_freq': 3, 'min_child_samples': 18}. Best is trial 60 with value: 0.7380083655886196.\u001b[0m\n"
     ]
    },
    {
     "name": "stdout",
     "output_type": "stream",
     "text": [
      "F1 0.6508850174260293\n"
     ]
    },
    {
     "name": "stderr",
     "output_type": "stream",
     "text": [
      "\u001b[32m[I 2021-03-22 22:17:00,986]\u001b[0m Trial 69 finished with value: 0.7261378997270473 and parameters: {'random_state': 83, 'reg_alpha': 1.7573660325177203, 'reg_lambda': 5.67251288513437e-07, 'max_depth': 4, 'n_estimators': 110, 'num_leaves': 204, 'colsample_bytree': 0.5283765104538438, 'subsample': 0.7246419018362308, 'subsample_freq': 2, 'min_child_samples': 5}. Best is trial 60 with value: 0.7380083655886196.\u001b[0m\n"
     ]
    },
    {
     "name": "stdout",
     "output_type": "stream",
     "text": [
      "F1 0.7261378997270473\n"
     ]
    },
    {
     "name": "stderr",
     "output_type": "stream",
     "text": [
      "\u001b[32m[I 2021-03-22 22:17:04,516]\u001b[0m Trial 70 finished with value: 0.6666341836728882 and parameters: {'random_state': 81, 'reg_alpha': 2.065038362613986, 'reg_lambda': 0.009813376368071301, 'max_depth': 4, 'n_estimators': 111, 'num_leaves': 204, 'colsample_bytree': 0.6221727151811537, 'subsample': 0.7591616899308611, 'subsample_freq': 2, 'min_child_samples': 15}. Best is trial 60 with value: 0.7380083655886196.\u001b[0m\n"
     ]
    },
    {
     "name": "stdout",
     "output_type": "stream",
     "text": [
      "F1 0.6666341836728882\n"
     ]
    },
    {
     "name": "stderr",
     "output_type": "stream",
     "text": [
      "\u001b[32m[I 2021-03-22 22:17:06,615]\u001b[0m Trial 71 finished with value: 0.6698829071869905 and parameters: {'random_state': 76, 'reg_alpha': 0.1371916818235287, 'reg_lambda': 3.0663023273703326e-07, 'max_depth': 3, 'n_estimators': 66, 'num_leaves': 199, 'colsample_bytree': 0.45299675065974554, 'subsample': 0.724398706042437, 'subsample_freq': 2, 'min_child_samples': 7}. Best is trial 60 with value: 0.7380083655886196.\u001b[0m\n"
     ]
    },
    {
     "name": "stdout",
     "output_type": "stream",
     "text": [
      "F1 0.6698829071869905\n"
     ]
    },
    {
     "name": "stderr",
     "output_type": "stream",
     "text": [
      "\u001b[32m[I 2021-03-22 22:17:12,059]\u001b[0m Trial 72 finished with value: 0.7217363985025658 and parameters: {'random_state': 58, 'reg_alpha': 1.2798527053838327, 'reg_lambda': 5.724056663870761e-07, 'max_depth': 5, 'n_estimators': 93, 'num_leaves': 182, 'colsample_bytree': 0.5030461213313538, 'subsample': 0.6756139840738595, 'subsample_freq': 1, 'min_child_samples': 5}. Best is trial 60 with value: 0.7380083655886196.\u001b[0m\n"
     ]
    },
    {
     "name": "stdout",
     "output_type": "stream",
     "text": [
      "F1 0.7217363985025658\n"
     ]
    },
    {
     "name": "stderr",
     "output_type": "stream",
     "text": [
      "\u001b[32m[I 2021-03-22 22:17:16,111]\u001b[0m Trial 73 finished with value: 0.6705831999044842 and parameters: {'random_state': 84, 'reg_alpha': 1.932829633275099, 'reg_lambda': 5.771514565757806e-06, 'max_depth': 4, 'n_estimators': 98, 'num_leaves': 162, 'colsample_bytree': 0.5308279710342885, 'subsample': 0.6801788178562899, 'subsample_freq': 1, 'min_child_samples': 11}. Best is trial 60 with value: 0.7380083655886196.\u001b[0m\n"
     ]
    },
    {
     "name": "stdout",
     "output_type": "stream",
     "text": [
      "F1 0.6705831999044842\n"
     ]
    },
    {
     "name": "stderr",
     "output_type": "stream",
     "text": [
      "\u001b[32m[I 2021-03-22 22:17:18,703]\u001b[0m Trial 74 finished with value: 0.680747350733122 and parameters: {'random_state': 58, 'reg_alpha': 0.17144786776512624, 'reg_lambda': 5.66501794087458e-07, 'max_depth': 2, 'n_estimators': 120, 'num_leaves': 223, 'colsample_bytree': 0.4967193900709456, 'subsample': 0.7058231091463247, 'subsample_freq': 1, 'min_child_samples': 8}. Best is trial 60 with value: 0.7380083655886196.\u001b[0m\n"
     ]
    },
    {
     "name": "stdout",
     "output_type": "stream",
     "text": [
      "F1 0.680747350733122\n"
     ]
    },
    {
     "name": "stderr",
     "output_type": "stream",
     "text": [
      "\u001b[32m[I 2021-03-22 22:17:22,757]\u001b[0m Trial 75 finished with value: 0.5603583533478486 and parameters: {'random_state': 52, 'reg_alpha': 5.571101434433296, 'reg_lambda': 1.2358605425111694e-07, 'max_depth': 3, 'n_estimators': 145, 'num_leaves': 209, 'colsample_bytree': 0.5587304758988613, 'subsample': 0.6192499296386431, 'subsample_freq': 2, 'min_child_samples': 11}. Best is trial 60 with value: 0.7380083655886196.\u001b[0m\n"
     ]
    },
    {
     "name": "stdout",
     "output_type": "stream",
     "text": [
      "F1 0.5603583533478486\n"
     ]
    },
    {
     "name": "stderr",
     "output_type": "stream",
     "text": [
      "\u001b[32m[I 2021-03-22 22:17:25,763]\u001b[0m Trial 76 finished with value: 0.6430526363921998 and parameters: {'random_state': 70, 'reg_alpha': 0.47985277074166266, 'reg_lambda': 1.714817119996384e-06, 'max_depth': 3, 'n_estimators': 84, 'num_leaves': 186, 'colsample_bytree': 0.5137295397517337, 'subsample': 0.7374625493253133, 'subsample_freq': 1, 'min_child_samples': 90}. Best is trial 60 with value: 0.7380083655886196.\u001b[0m\n"
     ]
    },
    {
     "name": "stdout",
     "output_type": "stream",
     "text": [
      "F1 0.6430526363921998\n"
     ]
    },
    {
     "name": "stderr",
     "output_type": "stream",
     "text": [
      "\u001b[32m[I 2021-03-22 22:17:31,154]\u001b[0m Trial 77 finished with value: 0.6576326644217279 and parameters: {'random_state': 39, 'reg_alpha': 1.4105409960799054, 'reg_lambda': 7.055514626301208e-08, 'max_depth': 4, 'n_estimators': 132, 'num_leaves': 172, 'colsample_bytree': 0.47952237393149766, 'subsample': 0.5894940721938342, 'subsample_freq': 3, 'min_child_samples': 5}. Best is trial 60 with value: 0.7380083655886196.\u001b[0m\n"
     ]
    },
    {
     "name": "stdout",
     "output_type": "stream",
     "text": [
      "F1 0.6576326644217279\n"
     ]
    },
    {
     "name": "stderr",
     "output_type": "stream",
     "text": [
      "\u001b[32m[I 2021-03-22 22:17:32,039]\u001b[0m Trial 78 finished with value: 0.7079902076498372 and parameters: {'random_state': 60, 'reg_alpha': 0.8937333709706134, 'reg_lambda': 2.742742533253692e-08, 'max_depth': 2, 'n_estimators': 50, 'num_leaves': 192, 'colsample_bytree': 0.665503854974813, 'subsample': 0.6553575698296832, 'subsample_freq': 4, 'min_child_samples': 24}. Best is trial 60 with value: 0.7380083655886196.\u001b[0m\n"
     ]
    },
    {
     "name": "stdout",
     "output_type": "stream",
     "text": [
      "F1 0.7079902076498372\n"
     ]
    },
    {
     "name": "stderr",
     "output_type": "stream",
     "text": [
      "\u001b[32m[I 2021-03-22 22:17:34,221]\u001b[0m Trial 79 finished with value: 0.6534281214080485 and parameters: {'random_state': 44, 'reg_alpha': 0.00012587968887299578, 'reg_lambda': 3.9132074175156216e-08, 'max_depth': 4, 'n_estimators': 52, 'num_leaves': 192, 'colsample_bytree': 0.6490586690335783, 'subsample': 0.6568723954206178, 'subsample_freq': 4, 'min_child_samples': 39}. Best is trial 60 with value: 0.7380083655886196.\u001b[0m\n"
     ]
    },
    {
     "name": "stdout",
     "output_type": "stream",
     "text": [
      "F1 0.6534281214080485\n"
     ]
    },
    {
     "name": "stderr",
     "output_type": "stream",
     "text": [
      "\u001b[32m[I 2021-03-22 22:17:35,524]\u001b[0m Trial 80 finished with value: 0.7181019471840393 and parameters: {'random_state': 32, 'reg_alpha': 0.036340181891499505, 'reg_lambda': 2.5407080639078083, 'max_depth': 1, 'n_estimators': 108, 'num_leaves': 219, 'colsample_bytree': 0.7251942587416549, 'subsample': 0.6430534269445696, 'subsample_freq': 4, 'min_child_samples': 24}. Best is trial 60 with value: 0.7380083655886196.\u001b[0m\n"
     ]
    },
    {
     "name": "stdout",
     "output_type": "stream",
     "text": [
      "F1 0.7181019471840393\n"
     ]
    },
    {
     "name": "stderr",
     "output_type": "stream",
     "text": [
      "\u001b[32m[I 2021-03-22 22:17:36,760]\u001b[0m Trial 81 finished with value: 0.5543694250749945 and parameters: {'random_state': 20, 'reg_alpha': 0.058876531245896035, 'reg_lambda': 4.181791262935989, 'max_depth': 1, 'n_estimators': 104, 'num_leaves': 219, 'colsample_bytree': 0.6171712516897406, 'subsample': 0.6774882613417568, 'subsample_freq': 4, 'min_child_samples': 29}. Best is trial 60 with value: 0.7380083655886196.\u001b[0m\n"
     ]
    },
    {
     "name": "stdout",
     "output_type": "stream",
     "text": [
      "F1 0.5543694250749945\n"
     ]
    },
    {
     "name": "stderr",
     "output_type": "stream",
     "text": [
      "\u001b[32m[I 2021-03-22 22:17:37,602]\u001b[0m Trial 82 finished with value: 0.6271337364679401 and parameters: {'random_state': 33, 'reg_alpha': 0.7170506667540746, 'reg_lambda': 1.149896638414358, 'max_depth': 1, 'n_estimators': 73, 'num_leaves': 233, 'colsample_bytree': 0.6652888675601805, 'subsample': 0.5590331791164123, 'subsample_freq': 4, 'min_child_samples': 44}. Best is trial 60 with value: 0.7380083655886196.\u001b[0m\n"
     ]
    },
    {
     "name": "stdout",
     "output_type": "stream",
     "text": [
      "F1 0.6271337364679401\n"
     ]
    },
    {
     "name": "stderr",
     "output_type": "stream",
     "text": [
      "\u001b[32m[I 2021-03-22 22:17:44,299]\u001b[0m Trial 83 finished with value: 0.6721319004442503 and parameters: {'random_state': 9, 'reg_alpha': 0.24039320570675335, 'reg_lambda': 6.518380743698021, 'max_depth': 0, 'n_estimators': 110, 'num_leaves': 206, 'colsample_bytree': 0.7031043912037692, 'subsample': 0.6403156510698368, 'subsample_freq': 4, 'min_child_samples': 36}. Best is trial 60 with value: 0.7380083655886196.\u001b[0m\n"
     ]
    },
    {
     "name": "stdout",
     "output_type": "stream",
     "text": [
      "F1 0.6721319004442503\n"
     ]
    },
    {
     "name": "stderr",
     "output_type": "stream",
     "text": [
      "\u001b[32m[I 2021-03-22 22:17:46,069]\u001b[0m Trial 84 finished with value: 0.7030702509674471 and parameters: {'random_state': 57, 'reg_alpha': 0.026465592767368384, 'reg_lambda': 0.7004267707870923, 'max_depth': 2, 'n_estimators': 94, 'num_leaves': 229, 'colsample_bytree': 0.727990259413702, 'subsample': 0.5953119992473204, 'subsample_freq': 4, 'min_child_samples': 22}. Best is trial 60 with value: 0.7380083655886196.\u001b[0m\n"
     ]
    },
    {
     "name": "stdout",
     "output_type": "stream",
     "text": [
      "F1 0.7030702509674471\n"
     ]
    },
    {
     "name": "stderr",
     "output_type": "stream",
     "text": [
      "\u001b[32m[I 2021-03-22 22:17:48,230]\u001b[0m Trial 85 finished with value: 0.645512305369506 and parameters: {'random_state': 46, 'reg_alpha': 3.091905186623618, 'reg_lambda': 9.560120130310591e-06, 'max_depth': 3, 'n_estimators': 190, 'num_leaves': 214, 'colsample_bytree': 0.633262162913187, 'subsample': 0.8314089026231064, 'subsample_freq': 4, 'min_child_samples': 28}. Best is trial 60 with value: 0.7380083655886196.\u001b[0m\n"
     ]
    },
    {
     "name": "stdout",
     "output_type": "stream",
     "text": [
      "F1 0.645512305369506\n"
     ]
    },
    {
     "name": "stderr",
     "output_type": "stream",
     "text": [
      "\u001b[32m[I 2021-03-22 22:17:48,673]\u001b[0m Trial 86 finished with value: 0.6406481445197696 and parameters: {'random_state': 50, 'reg_alpha': 0.002012713202496697, 'reg_lambda': 2.2595493854104832e-08, 'max_depth': 2, 'n_estimators': 51, 'num_leaves': 200, 'colsample_bytree': 0.719892555953108, 'subsample': 0.6660155665545344, 'subsample_freq': 5, 'min_child_samples': 33}. Best is trial 60 with value: 0.7380083655886196.\u001b[0m\n"
     ]
    },
    {
     "name": "stdout",
     "output_type": "stream",
     "text": [
      "F1 0.6406481445197696\n"
     ]
    },
    {
     "name": "stderr",
     "output_type": "stream",
     "text": [
      "\u001b[32m[I 2021-03-22 22:17:50,420]\u001b[0m Trial 87 finished with value: 0.6615972508888879 and parameters: {'random_state': 55, 'reg_alpha': 0.004844494264899262, 'reg_lambda': 5.507349785693371e-07, 'max_depth': 3, 'n_estimators': 123, 'num_leaves': 191, 'colsample_bytree': 0.6892120030647867, 'subsample': 0.7678558458169885, 'subsample_freq': 4, 'min_child_samples': 25}. Best is trial 60 with value: 0.7380083655886196.\u001b[0m\n"
     ]
    },
    {
     "name": "stdout",
     "output_type": "stream",
     "text": [
      "F1 0.6615972508888879\n"
     ]
    },
    {
     "name": "stderr",
     "output_type": "stream",
     "text": [
      "\u001b[32m[I 2021-03-22 22:18:03,215]\u001b[0m Trial 88 finished with value: 0.6639081928047015 and parameters: {'random_state': 25, 'reg_alpha': 0.06235561396298312, 'reg_lambda': 1.8602814937801428, 'max_depth': 5, 'n_estimators': 445, 'num_leaves': 81, 'colsample_bytree': 0.7535176880265999, 'subsample': 0.792106873994889, 'subsample_freq': 3, 'min_child_samples': 20}. Best is trial 60 with value: 0.7380083655886196.\u001b[0m\n"
     ]
    },
    {
     "name": "stdout",
     "output_type": "stream",
     "text": [
      "F1 0.6639081928047015\n"
     ]
    },
    {
     "name": "stderr",
     "output_type": "stream",
     "text": [
      "\u001b[32m[I 2021-03-22 22:18:03,987]\u001b[0m Trial 89 finished with value: 0.432851768179456 and parameters: {'random_state': 65, 'reg_alpha': 8.590433118122181, 'reg_lambda': 2.784573262963597e-06, 'max_depth': 1, 'n_estimators': 77, 'num_leaves': 48, 'colsample_bytree': 0.6701646907999035, 'subsample': 0.5354315338462567, 'subsample_freq': 4, 'min_child_samples': 14}. Best is trial 60 with value: 0.7380083655886196.\u001b[0m\n"
     ]
    },
    {
     "name": "stdout",
     "output_type": "stream",
     "text": [
      "F1 0.432851768179456\n"
     ]
    },
    {
     "name": "stderr",
     "output_type": "stream",
     "text": [
      "\u001b[32m[I 2021-03-22 22:18:06,520]\u001b[0m Trial 90 finished with value: 0.6676755054783408 and parameters: {'random_state': 74, 'reg_alpha': 0.4958415978294304, 'reg_lambda': 0.34113171023022776, 'max_depth': -1, 'n_estimators': 58, 'num_leaves': 226, 'colsample_bytree': 0.5998917597826495, 'subsample': 0.6916982371380211, 'subsample_freq': 3, 'min_child_samples': 16}. Best is trial 60 with value: 0.7380083655886196.\u001b[0m\n"
     ]
    },
    {
     "name": "stdout",
     "output_type": "stream",
     "text": [
      "F1 0.6676755054783408\n"
     ]
    },
    {
     "name": "stderr",
     "output_type": "stream",
     "text": [
      "\u001b[32m[I 2021-03-22 22:18:07,803]\u001b[0m Trial 91 finished with value: 0.6480494609052484 and parameters: {'random_state': 61, 'reg_alpha': 2.0955375244567325, 'reg_lambda': 2.4125723432129336e-07, 'max_depth': 2, 'n_estimators': 96, 'num_leaves': 174, 'colsample_bytree': 0.5745892391017768, 'subsample': 0.6271584170228718, 'subsample_freq': 3, 'min_child_samples': 7}. Best is trial 60 with value: 0.7380083655886196.\u001b[0m\n"
     ]
    },
    {
     "name": "stdout",
     "output_type": "stream",
     "text": [
      "F1 0.6480494609052484\n"
     ]
    },
    {
     "name": "stderr",
     "output_type": "stream",
     "text": [
      "\u001b[32m[I 2021-03-22 22:18:08,777]\u001b[0m Trial 92 finished with value: 0.7091713315514314 and parameters: {'random_state': 60, 'reg_alpha': 1.0732082749216216, 'reg_lambda': 1.3062547560097585e-07, 'max_depth': 2, 'n_estimators': 74, 'num_leaves': 166, 'colsample_bytree': 0.5295663608908523, 'subsample': 0.7309998193252158, 'subsample_freq': 3, 'min_child_samples': 10}. Best is trial 60 with value: 0.7380083655886196.\u001b[0m\n"
     ]
    },
    {
     "name": "stdout",
     "output_type": "stream",
     "text": [
      "F1 0.7091713315514314\n"
     ]
    },
    {
     "name": "stderr",
     "output_type": "stream",
     "text": [
      "\u001b[32m[I 2021-03-22 22:18:10,059]\u001b[0m Trial 93 finished with value: 0.7413077277721661 and parameters: {'random_state': 68, 'reg_alpha': 0.8669958982126355, 'reg_lambda': 1.1364167869161905e-07, 'max_depth': 3, 'n_estimators': 74, 'num_leaves': 157, 'colsample_bytree': 0.5344081427785407, 'subsample': 0.7499862638322099, 'subsample_freq': 3, 'min_child_samples': 10}. Best is trial 93 with value: 0.7413077277721661.\u001b[0m\n"
     ]
    },
    {
     "name": "stdout",
     "output_type": "stream",
     "text": [
      "F1 0.7413077277721661\n"
     ]
    },
    {
     "name": "stderr",
     "output_type": "stream",
     "text": [
      "\u001b[32m[I 2021-03-22 22:18:12,008]\u001b[0m Trial 94 finished with value: 0.556538562763601 and parameters: {'random_state': 69, 'reg_alpha': 6.143919577623402, 'reg_lambda': 8.489001306921605e-08, 'max_depth': 10, 'n_estimators': 73, 'num_leaves': 166, 'colsample_bytree': 0.5279863622928074, 'subsample': 0.7459333338210767, 'subsample_freq': 3, 'min_child_samples': 10}. Best is trial 93 with value: 0.7413077277721661.\u001b[0m\n"
     ]
    },
    {
     "name": "stdout",
     "output_type": "stream",
     "text": [
      "F1 0.556538562763601\n"
     ]
    },
    {
     "name": "stderr",
     "output_type": "stream",
     "text": [
      "\u001b[32m[I 2021-03-22 22:18:16,093]\u001b[0m Trial 95 finished with value: 0.6626660131601867 and parameters: {'random_state': 63, 'reg_alpha': 0.0008821305124349284, 'reg_lambda': 1.3046283462752235e-07, 'max_depth': 4, 'n_estimators': 139, 'num_leaves': 147, 'colsample_bytree': 0.5384840773286174, 'subsample': 0.712597306395095, 'subsample_freq': 2, 'min_child_samples': 12}. Best is trial 93 with value: 0.7413077277721661.\u001b[0m\n"
     ]
    },
    {
     "name": "stdout",
     "output_type": "stream",
     "text": [
      "F1 0.6626660131601867\n"
     ]
    },
    {
     "name": "stderr",
     "output_type": "stream",
     "text": [
      "\u001b[32m[I 2021-03-22 22:18:17,077]\u001b[0m Trial 96 finished with value: 0.7378375778155066 and parameters: {'random_state': 53, 'reg_alpha': 0.3669613751224259, 'reg_lambda': 4.946780889835513e-07, 'max_depth': 3, 'n_estimators': 60, 'num_leaves': 133, 'colsample_bytree': 0.5697932411626817, 'subsample': 0.7716720840768663, 'subsample_freq': 3, 'min_child_samples': 9}. Best is trial 93 with value: 0.7413077277721661.\u001b[0m\n"
     ]
    },
    {
     "name": "stdout",
     "output_type": "stream",
     "text": [
      "F1 0.7378375778155066\n"
     ]
    },
    {
     "name": "stderr",
     "output_type": "stream",
     "text": [
      "\u001b[32m[I 2021-03-22 22:18:18,242]\u001b[0m Trial 97 finished with value: 0.7321939531695523 and parameters: {'random_state': 53, 'reg_alpha': 0.34775700899334133, 'reg_lambda': 6.879984994264239e-07, 'max_depth': 3, 'n_estimators': 61, 'num_leaves': 156, 'colsample_bytree': 0.5669638244779854, 'subsample': 0.7717069462904541, 'subsample_freq': 2, 'min_child_samples': 7}. Best is trial 93 with value: 0.7413077277721661.\u001b[0m\n"
     ]
    },
    {
     "name": "stdout",
     "output_type": "stream",
     "text": [
      "F1 0.7321939531695523\n"
     ]
    },
    {
     "name": "stderr",
     "output_type": "stream",
     "text": [
      "\u001b[32m[I 2021-03-22 22:18:21,368]\u001b[0m Trial 98 finished with value: 0.7442507652173438 and parameters: {'random_state': 53, 'reg_alpha': 0.22510529159798284, 'reg_lambda': 6.750492841274968e-07, 'max_depth': 3, 'n_estimators': 152, 'num_leaves': 135, 'colsample_bytree': 0.5481176869940257, 'subsample': 0.8011220054580684, 'subsample_freq': 1, 'min_child_samples': 7}. Best is trial 98 with value: 0.7442507652173438.\u001b[0m\n"
     ]
    },
    {
     "name": "stdout",
     "output_type": "stream",
     "text": [
      "F1 0.7442507652173438\n"
     ]
    },
    {
     "name": "stderr",
     "output_type": "stream",
     "text": [
      "\u001b[32m[I 2021-03-22 22:18:24,032]\u001b[0m Trial 99 finished with value: 0.7453903078762071 and parameters: {'random_state': 53, 'reg_alpha': 0.22204450496336606, 'reg_lambda': 5.788896130674745e-07, 'max_depth': 3, 'n_estimators': 153, 'num_leaves': 131, 'colsample_bytree': 0.5452045748900861, 'subsample': 0.8016089617809282, 'subsample_freq': 1, 'min_child_samples': 7}. Best is trial 99 with value: 0.7453903078762071.\u001b[0m\n"
     ]
    },
    {
     "name": "stdout",
     "output_type": "stream",
     "text": [
      "F1 0.7453903078762071\n",
      "  Value: 0.7453903078762071\n",
      "  Params: \n",
      "    random_state: 53\n",
      "    reg_alpha: 0.22204450496336606\n",
      "    reg_lambda: 5.788896130674745e-07\n",
      "    max_depth: 3\n",
      "    n_estimators: 153\n",
      "    num_leaves: 131\n",
      "    colsample_bytree: 0.5452045748900861\n",
      "    subsample: 0.8016089617809282\n",
      "    subsample_freq: 1\n",
      "    min_child_samples: 7\n"
     ]
    }
   ],
   "source": [
    "if OPTUNA_OPTIMIZATION:\n",
    "    study = optuna.create_study(study_name = 'lgbm_parameter_opt', direction=\"maximize\")\n",
    "    study.optimize(objective, n_trials=N_TRIALS) \n",
    "    \n",
    "    trial = study.best_trial\n",
    "    \n",
    "    print(\"  Value: {}\".format(trial.value))\n",
    "    \n",
    "    print(\"  Params: \")\n",
    "    for key, value in trial.params.items():\n",
    "        print(\"    {}: {}\".format(key, value))\n",
    "else:\n",
    "    trial = {\"reg_alpha\": 0.362136938773081,\n",
    "             \"reg_lambda\": 2.930297242488071,\n",
    "             \"max_depth\": 10,\n",
    "             \"n_estimators\": 306,\n",
    "             \"num_leaves\": 71,\n",
    "             \"colsample_bytree\": 0.7121396258381646,\n",
    "             \"subsample\": 0.793959734582999,\n",
    "             \"subsample_freq\": 2,\n",
    "             \"min_child_samples\": 18}"
   ]
  },
  {
   "cell_type": "code",
   "execution_count": 26,
   "metadata": {},
   "outputs": [],
   "source": [
    "if OPTUNA_OPTIMIZATION:\n",
    "    final_model = LGBMRegressor(**trial.params)\n",
    "else:\n",
    "    final_model = LGBMRegressor(**trial)"
   ]
  },
  {
   "cell_type": "code",
   "execution_count": 27,
   "metadata": {},
   "outputs": [
    {
     "data": {
      "text/plain": [
       "{'random_state': 53,\n",
       " 'reg_alpha': 0.22204450496336606,\n",
       " 'reg_lambda': 5.788896130674745e-07,\n",
       " 'max_depth': 3,\n",
       " 'n_estimators': 153,\n",
       " 'num_leaves': 131,\n",
       " 'colsample_bytree': 0.5452045748900861,\n",
       " 'subsample': 0.8016089617809282,\n",
       " 'subsample_freq': 1,\n",
       " 'min_child_samples': 7}"
      ]
     },
     "execution_count": 27,
     "metadata": {},
     "output_type": "execute_result"
    }
   ],
   "source": [
    "trial.params"
   ]
  },
  {
   "cell_type": "code",
   "execution_count": 37,
   "metadata": {},
   "outputs": [
    {
     "name": "stdout",
     "output_type": "stream",
     "text": [
      "F1 0.7453903078762071\n"
     ]
    }
   ],
   "source": [
    "model = LGBMClassifier(**trial.params)\n",
    "    \n",
    "model.fit(X_train,y_train)\n",
    "predictions = model.predict(X_test).round(0)\n",
    "f1 = f1_score(y_test, predictions, average='macro')\n",
    "print(\"F1 %s\" % (f1))\n",
    "preds = model.predict(test).round(0)\n"
   ]
  },
  {
   "cell_type": "code",
   "execution_count": 33,
   "metadata": {},
   "outputs": [],
   "source": [
    "def run_model(name, model,train,y,test):\n",
    "    X_train, X_test, y_train, y_test = train_test_split(train, y, test_size=0.33, random_state=42)\n",
    "    model2 = model\n",
    "    model2.fit(X_train,y_train)\n",
    "    predictions = model.predict(X_test).round(0)\n",
    "    print(\"%s F1 %s\" % (name,f1_score(y_test, predictions, average='macro')))\n",
    "    model.fit(train,y)\n",
    "    preds = model.predict(test).round(0)\n",
    "    return preds"
   ]
  },
  {
   "cell_type": "code",
   "execution_count": 34,
   "metadata": {},
   "outputs": [
    {
     "ename": "UnboundLocalError",
     "evalue": "local variable 'X_train' referenced before assignment",
     "output_type": "error",
     "traceback": [
      "\u001b[0;31m---------------------------------------------------------------------------\u001b[0m",
      "\u001b[0;31mUnboundLocalError\u001b[0m                         Traceback (most recent call last)",
      "\u001b[0;32m<ipython-input-34-bfb136657823>\u001b[0m in \u001b[0;36m<module>\u001b[0;34m\u001b[0m\n\u001b[1;32m      5\u001b[0m ]\n\u001b[1;32m      6\u001b[0m \u001b[0;32mfor\u001b[0m \u001b[0mname\u001b[0m\u001b[0;34m,\u001b[0m\u001b[0mmodel\u001b[0m \u001b[0;32min\u001b[0m \u001b[0mmodels\u001b[0m\u001b[0;34m:\u001b[0m\u001b[0;34m\u001b[0m\u001b[0;34m\u001b[0m\u001b[0m\n\u001b[0;32m----> 7\u001b[0;31m     \u001b[0mrun_model\u001b[0m\u001b[0;34m(\u001b[0m\u001b[0mname\u001b[0m\u001b[0;34m,\u001b[0m \u001b[0mmodel\u001b[0m\u001b[0;34m,\u001b[0m \u001b[0mtrain\u001b[0m\u001b[0;34m,\u001b[0m\u001b[0my\u001b[0m\u001b[0;34m,\u001b[0m\u001b[0mtest\u001b[0m\u001b[0;34m)\u001b[0m\u001b[0;34m\u001b[0m\u001b[0;34m\u001b[0m\u001b[0m\n\u001b[0m",
      "\u001b[0;32m<ipython-input-33-4afda138e94b>\u001b[0m in \u001b[0;36mrun_model\u001b[0;34m(name, model, train, y, test)\u001b[0m\n\u001b[1;32m      1\u001b[0m \u001b[0;32mdef\u001b[0m \u001b[0mrun_model\u001b[0m\u001b[0;34m(\u001b[0m\u001b[0mname\u001b[0m\u001b[0;34m,\u001b[0m \u001b[0mmodel\u001b[0m\u001b[0;34m,\u001b[0m\u001b[0mtrain\u001b[0m\u001b[0;34m,\u001b[0m\u001b[0my\u001b[0m\u001b[0;34m,\u001b[0m\u001b[0mtest\u001b[0m\u001b[0;34m)\u001b[0m\u001b[0;34m:\u001b[0m\u001b[0;34m\u001b[0m\u001b[0;34m\u001b[0m\u001b[0m\n\u001b[0;32m----> 2\u001b[0;31m     \u001b[0mmodel\u001b[0m\u001b[0;34m.\u001b[0m\u001b[0mfit\u001b[0m\u001b[0;34m(\u001b[0m\u001b[0mX_train\u001b[0m\u001b[0;34m,\u001b[0m\u001b[0my_train\u001b[0m\u001b[0;34m)\u001b[0m\u001b[0;34m\u001b[0m\u001b[0;34m\u001b[0m\u001b[0m\n\u001b[0m\u001b[1;32m      3\u001b[0m     \u001b[0mpredictions\u001b[0m \u001b[0;34m=\u001b[0m \u001b[0mmodel\u001b[0m\u001b[0;34m.\u001b[0m\u001b[0mpredict\u001b[0m\u001b[0;34m(\u001b[0m\u001b[0mX_test\u001b[0m\u001b[0;34m)\u001b[0m\u001b[0;34m.\u001b[0m\u001b[0mround\u001b[0m\u001b[0;34m(\u001b[0m\u001b[0;36m0\u001b[0m\u001b[0;34m)\u001b[0m\u001b[0;34m\u001b[0m\u001b[0;34m\u001b[0m\u001b[0m\n\u001b[1;32m      4\u001b[0m     \u001b[0mf1\u001b[0m \u001b[0;34m=\u001b[0m \u001b[0mf1_score\u001b[0m\u001b[0;34m(\u001b[0m\u001b[0my_test\u001b[0m\u001b[0;34m,\u001b[0m \u001b[0mpredictions\u001b[0m\u001b[0;34m,\u001b[0m \u001b[0maverage\u001b[0m\u001b[0;34m=\u001b[0m\u001b[0;34m'macro'\u001b[0m\u001b[0;34m)\u001b[0m\u001b[0;34m\u001b[0m\u001b[0;34m\u001b[0m\u001b[0m\n\u001b[1;32m      5\u001b[0m     \u001b[0mprint\u001b[0m\u001b[0;34m(\u001b[0m\u001b[0;34m\"F1 %s\"\u001b[0m \u001b[0;34m%\u001b[0m \u001b[0;34m(\u001b[0m\u001b[0mf1\u001b[0m\u001b[0;34m)\u001b[0m\u001b[0;34m)\u001b[0m\u001b[0;34m\u001b[0m\u001b[0;34m\u001b[0m\u001b[0m\n",
      "\u001b[0;31mUnboundLocalError\u001b[0m: local variable 'X_train' referenced before assignment"
     ]
    }
   ],
   "source": [
    "models = [\n",
    "    (\"KNN\",KNeighborsClassifier(n_neighbors=5)),\n",
    "    (\"LGBM\",LGBMRegressor(**trial.params)),\n",
    "    (\"XGB\",XGBRegressor())\n",
    "]\n",
    "for name,model in models:\n",
    "    run_model(name, model, train,y,test)"
   ]
  },
  {
   "cell_type": "code",
   "execution_count": 18,
   "metadata": {},
   "outputs": [
    {
     "name": "stdout",
     "output_type": "stream",
     "text": [
      "LGBM F1 0.7340929540637331\n"
     ]
    }
   ],
   "source": [
    "name = models[1][0]\n",
    "model = models[1][1]\n",
    "preds = run_model(name, model, train,y,test)"
   ]
  },
  {
   "cell_type": "code",
   "execution_count": 38,
   "metadata": {},
   "outputs": [],
   "source": [
    "preds = [[\"Cheap\",\"Affordable\",\"Semi-Premium\",\"Premium\"][int(x)] for x in preds.round(0)]"
   ]
  },
  {
   "cell_type": "code",
   "execution_count": 39,
   "metadata": {},
   "outputs": [],
   "source": [
    "sub = pd.DataFrame({\"Property_Id\":testId,\"Price_Category\":preds})"
   ]
  },
  {
   "cell_type": "code",
   "execution_count": 40,
   "metadata": {},
   "outputs": [],
   "source": [
    "sub.to_csv(\"../output/sub_optuna2.csv\",index=False)"
   ]
  },
  {
   "cell_type": "code",
   "execution_count": 41,
   "metadata": {},
   "outputs": [
    {
     "data": {
      "text/plain": [
       "Semi-Premium    0.600000\n",
       "Premium         0.359633\n",
       "Affordable      0.040367\n",
       "Name: Price_Category, dtype: float64"
      ]
     },
     "execution_count": 41,
     "metadata": {},
     "output_type": "execute_result"
    }
   ],
   "source": [
    "pre_sub = pd.read_csv(\"../output/sub_with_sourcenum.csv\")\n",
    "pre_sub.Price_Category.value_counts()/len(pre_sub)"
   ]
  },
  {
   "cell_type": "code",
   "execution_count": 42,
   "metadata": {},
   "outputs": [
    {
     "data": {
      "text/plain": [
       "Semi-Premium    0.598165\n",
       "Premium         0.357798\n",
       "Affordable      0.042202\n",
       "Cheap           0.001835\n",
       "Name: Price_Category, dtype: float64"
      ]
     },
     "execution_count": 42,
     "metadata": {},
     "output_type": "execute_result"
    }
   ],
   "source": [
    "pre_sub2 = pd.read_csv(\"../output/sub3.csv\")\n",
    "pre_sub2.Price_Category.value_counts()/len(pre_sub)"
   ]
  },
  {
   "cell_type": "code",
   "execution_count": 43,
   "metadata": {},
   "outputs": [
    {
     "data": {
      "text/plain": [
       "Semi-Premium    315\n",
       "Premium         212\n",
       "Affordable       18\n",
       "Name: Price_Category, dtype: int64"
      ]
     },
     "execution_count": 43,
     "metadata": {},
     "output_type": "execute_result"
    }
   ],
   "source": [
    "sub[\"Price_Category\"].value_counts()"
   ]
  },
  {
   "cell_type": "code",
   "execution_count": 44,
   "metadata": {},
   "outputs": [
    {
     "data": {
      "text/html": [
       "<div>\n",
       "<style scoped>\n",
       "    .dataframe tbody tr th:only-of-type {\n",
       "        vertical-align: middle;\n",
       "    }\n",
       "\n",
       "    .dataframe tbody tr th {\n",
       "        vertical-align: top;\n",
       "    }\n",
       "\n",
       "    .dataframe thead th {\n",
       "        text-align: right;\n",
       "    }\n",
       "</style>\n",
       "<table border=\"1\" class=\"dataframe\">\n",
       "  <thead>\n",
       "    <tr style=\"text-align: right;\">\n",
       "      <th></th>\n",
       "      <th>Property_Id</th>\n",
       "      <th>Price_Category</th>\n",
       "      <th>Property_Id</th>\n",
       "      <th>Price_Category</th>\n",
       "    </tr>\n",
       "  </thead>\n",
       "  <tbody>\n",
       "    <tr>\n",
       "      <th>36</th>\n",
       "      <td>1719</td>\n",
       "      <td>Premium</td>\n",
       "      <td>1719</td>\n",
       "      <td>Semi-Premium</td>\n",
       "    </tr>\n",
       "    <tr>\n",
       "      <th>52</th>\n",
       "      <td>711</td>\n",
       "      <td>Premium</td>\n",
       "      <td>711</td>\n",
       "      <td>Semi-Premium</td>\n",
       "    </tr>\n",
       "    <tr>\n",
       "      <th>87</th>\n",
       "      <td>1870</td>\n",
       "      <td>Semi-Premium</td>\n",
       "      <td>1870</td>\n",
       "      <td>Premium</td>\n",
       "    </tr>\n",
       "    <tr>\n",
       "      <th>100</th>\n",
       "      <td>278</td>\n",
       "      <td>Semi-Premium</td>\n",
       "      <td>278</td>\n",
       "      <td>Premium</td>\n",
       "    </tr>\n",
       "    <tr>\n",
       "      <th>116</th>\n",
       "      <td>3208</td>\n",
       "      <td>Premium</td>\n",
       "      <td>3208</td>\n",
       "      <td>Semi-Premium</td>\n",
       "    </tr>\n",
       "    <tr>\n",
       "      <th>124</th>\n",
       "      <td>739</td>\n",
       "      <td>Premium</td>\n",
       "      <td>739</td>\n",
       "      <td>Semi-Premium</td>\n",
       "    </tr>\n",
       "    <tr>\n",
       "      <th>141</th>\n",
       "      <td>973</td>\n",
       "      <td>Semi-Premium</td>\n",
       "      <td>973</td>\n",
       "      <td>Affordable</td>\n",
       "    </tr>\n",
       "    <tr>\n",
       "      <th>149</th>\n",
       "      <td>2185</td>\n",
       "      <td>Premium</td>\n",
       "      <td>2185</td>\n",
       "      <td>Semi-Premium</td>\n",
       "    </tr>\n",
       "    <tr>\n",
       "      <th>154</th>\n",
       "      <td>2029</td>\n",
       "      <td>Premium</td>\n",
       "      <td>2029</td>\n",
       "      <td>Semi-Premium</td>\n",
       "    </tr>\n",
       "    <tr>\n",
       "      <th>156</th>\n",
       "      <td>2103</td>\n",
       "      <td>Premium</td>\n",
       "      <td>2103</td>\n",
       "      <td>Semi-Premium</td>\n",
       "    </tr>\n",
       "    <tr>\n",
       "      <th>203</th>\n",
       "      <td>428</td>\n",
       "      <td>Premium</td>\n",
       "      <td>428</td>\n",
       "      <td>Semi-Premium</td>\n",
       "    </tr>\n",
       "    <tr>\n",
       "      <th>205</th>\n",
       "      <td>1617</td>\n",
       "      <td>Semi-Premium</td>\n",
       "      <td>1617</td>\n",
       "      <td>Affordable</td>\n",
       "    </tr>\n",
       "    <tr>\n",
       "      <th>209</th>\n",
       "      <td>2293</td>\n",
       "      <td>Premium</td>\n",
       "      <td>2293</td>\n",
       "      <td>Semi-Premium</td>\n",
       "    </tr>\n",
       "    <tr>\n",
       "      <th>269</th>\n",
       "      <td>2576</td>\n",
       "      <td>Premium</td>\n",
       "      <td>2576</td>\n",
       "      <td>Semi-Premium</td>\n",
       "    </tr>\n",
       "    <tr>\n",
       "      <th>271</th>\n",
       "      <td>2153</td>\n",
       "      <td>Premium</td>\n",
       "      <td>2153</td>\n",
       "      <td>Semi-Premium</td>\n",
       "    </tr>\n",
       "    <tr>\n",
       "      <th>278</th>\n",
       "      <td>2423</td>\n",
       "      <td>Premium</td>\n",
       "      <td>2423</td>\n",
       "      <td>Semi-Premium</td>\n",
       "    </tr>\n",
       "    <tr>\n",
       "      <th>282</th>\n",
       "      <td>1586</td>\n",
       "      <td>Premium</td>\n",
       "      <td>1586</td>\n",
       "      <td>Semi-Premium</td>\n",
       "    </tr>\n",
       "    <tr>\n",
       "      <th>305</th>\n",
       "      <td>2830</td>\n",
       "      <td>Premium</td>\n",
       "      <td>2830</td>\n",
       "      <td>Semi-Premium</td>\n",
       "    </tr>\n",
       "    <tr>\n",
       "      <th>306</th>\n",
       "      <td>1038</td>\n",
       "      <td>Premium</td>\n",
       "      <td>1038</td>\n",
       "      <td>Semi-Premium</td>\n",
       "    </tr>\n",
       "    <tr>\n",
       "      <th>325</th>\n",
       "      <td>798</td>\n",
       "      <td>Premium</td>\n",
       "      <td>798</td>\n",
       "      <td>Semi-Premium</td>\n",
       "    </tr>\n",
       "    <tr>\n",
       "      <th>335</th>\n",
       "      <td>3023</td>\n",
       "      <td>Premium</td>\n",
       "      <td>3023</td>\n",
       "      <td>Semi-Premium</td>\n",
       "    </tr>\n",
       "    <tr>\n",
       "      <th>339</th>\n",
       "      <td>619</td>\n",
       "      <td>Premium</td>\n",
       "      <td>619</td>\n",
       "      <td>Semi-Premium</td>\n",
       "    </tr>\n",
       "    <tr>\n",
       "      <th>341</th>\n",
       "      <td>1223</td>\n",
       "      <td>Semi-Premium</td>\n",
       "      <td>1223</td>\n",
       "      <td>Affordable</td>\n",
       "    </tr>\n",
       "    <tr>\n",
       "      <th>350</th>\n",
       "      <td>2605</td>\n",
       "      <td>Affordable</td>\n",
       "      <td>2605</td>\n",
       "      <td>Semi-Premium</td>\n",
       "    </tr>\n",
       "    <tr>\n",
       "      <th>372</th>\n",
       "      <td>785</td>\n",
       "      <td>Semi-Premium</td>\n",
       "      <td>785</td>\n",
       "      <td>Affordable</td>\n",
       "    </tr>\n",
       "    <tr>\n",
       "      <th>406</th>\n",
       "      <td>928</td>\n",
       "      <td>Semi-Premium</td>\n",
       "      <td>928</td>\n",
       "      <td>Premium</td>\n",
       "    </tr>\n",
       "    <tr>\n",
       "      <th>408</th>\n",
       "      <td>2652</td>\n",
       "      <td>Semi-Premium</td>\n",
       "      <td>2652</td>\n",
       "      <td>Affordable</td>\n",
       "    </tr>\n",
       "    <tr>\n",
       "      <th>460</th>\n",
       "      <td>3480</td>\n",
       "      <td>Premium</td>\n",
       "      <td>3480</td>\n",
       "      <td>Semi-Premium</td>\n",
       "    </tr>\n",
       "    <tr>\n",
       "      <th>514</th>\n",
       "      <td>2497</td>\n",
       "      <td>Premium</td>\n",
       "      <td>2497</td>\n",
       "      <td>Semi-Premium</td>\n",
       "    </tr>\n",
       "    <tr>\n",
       "      <th>526</th>\n",
       "      <td>216</td>\n",
       "      <td>Semi-Premium</td>\n",
       "      <td>216</td>\n",
       "      <td>Premium</td>\n",
       "    </tr>\n",
       "  </tbody>\n",
       "</table>\n",
       "</div>"
      ],
      "text/plain": [
       "     Property_Id Price_Category  Property_Id Price_Category\n",
       "36          1719        Premium         1719   Semi-Premium\n",
       "52           711        Premium          711   Semi-Premium\n",
       "87          1870   Semi-Premium         1870        Premium\n",
       "100          278   Semi-Premium          278        Premium\n",
       "116         3208        Premium         3208   Semi-Premium\n",
       "124          739        Premium          739   Semi-Premium\n",
       "141          973   Semi-Premium          973     Affordable\n",
       "149         2185        Premium         2185   Semi-Premium\n",
       "154         2029        Premium         2029   Semi-Premium\n",
       "156         2103        Premium         2103   Semi-Premium\n",
       "203          428        Premium          428   Semi-Premium\n",
       "205         1617   Semi-Premium         1617     Affordable\n",
       "209         2293        Premium         2293   Semi-Premium\n",
       "269         2576        Premium         2576   Semi-Premium\n",
       "271         2153        Premium         2153   Semi-Premium\n",
       "278         2423        Premium         2423   Semi-Premium\n",
       "282         1586        Premium         1586   Semi-Premium\n",
       "305         2830        Premium         2830   Semi-Premium\n",
       "306         1038        Premium         1038   Semi-Premium\n",
       "325          798        Premium          798   Semi-Premium\n",
       "335         3023        Premium         3023   Semi-Premium\n",
       "339          619        Premium          619   Semi-Premium\n",
       "341         1223   Semi-Premium         1223     Affordable\n",
       "350         2605     Affordable         2605   Semi-Premium\n",
       "372          785   Semi-Premium          785     Affordable\n",
       "406          928   Semi-Premium          928        Premium\n",
       "408         2652   Semi-Premium         2652     Affordable\n",
       "460         3480        Premium         3480   Semi-Premium\n",
       "514         2497        Premium         2497   Semi-Premium\n",
       "526          216   Semi-Premium          216        Premium"
      ]
     },
     "execution_count": 44,
     "metadata": {},
     "output_type": "execute_result"
    }
   ],
   "source": [
    "pd.concat([sub,pre_sub],axis=1)[sub.Price_Category != pre_sub.Price_Category]"
   ]
  },
  {
   "cell_type": "code",
   "execution_count": 47,
   "metadata": {},
   "outputs": [
    {
     "data": {
      "text/html": [
       "<div>\n",
       "<style scoped>\n",
       "    .dataframe tbody tr th:only-of-type {\n",
       "        vertical-align: middle;\n",
       "    }\n",
       "\n",
       "    .dataframe tbody tr th {\n",
       "        vertical-align: top;\n",
       "    }\n",
       "\n",
       "    .dataframe thead th {\n",
       "        text-align: right;\n",
       "    }\n",
       "</style>\n",
       "<table border=\"1\" class=\"dataframe\">\n",
       "  <thead>\n",
       "    <tr style=\"text-align: right;\">\n",
       "      <th></th>\n",
       "      <th>Property_Id</th>\n",
       "      <th>Price_Category</th>\n",
       "      <th>Property_Id</th>\n",
       "      <th>Price_Category</th>\n",
       "    </tr>\n",
       "  </thead>\n",
       "  <tbody>\n",
       "    <tr>\n",
       "      <th>52</th>\n",
       "      <td>711</td>\n",
       "      <td>Semi-Premium</td>\n",
       "      <td>711</td>\n",
       "      <td>Premium</td>\n",
       "    </tr>\n",
       "    <tr>\n",
       "      <th>84</th>\n",
       "      <td>221</td>\n",
       "      <td>Semi-Premium</td>\n",
       "      <td>221</td>\n",
       "      <td>Affordable</td>\n",
       "    </tr>\n",
       "    <tr>\n",
       "      <th>176</th>\n",
       "      <td>3612</td>\n",
       "      <td>Affordable</td>\n",
       "      <td>3612</td>\n",
       "      <td>Semi-Premium</td>\n",
       "    </tr>\n",
       "    <tr>\n",
       "      <th>195</th>\n",
       "      <td>451</td>\n",
       "      <td>Semi-Premium</td>\n",
       "      <td>451</td>\n",
       "      <td>Premium</td>\n",
       "    </tr>\n",
       "    <tr>\n",
       "      <th>269</th>\n",
       "      <td>2576</td>\n",
       "      <td>Semi-Premium</td>\n",
       "      <td>2576</td>\n",
       "      <td>Premium</td>\n",
       "    </tr>\n",
       "    <tr>\n",
       "      <th>282</th>\n",
       "      <td>1586</td>\n",
       "      <td>Premium</td>\n",
       "      <td>1586</td>\n",
       "      <td>Semi-Premium</td>\n",
       "    </tr>\n",
       "    <tr>\n",
       "      <th>299</th>\n",
       "      <td>125</td>\n",
       "      <td>Semi-Premium</td>\n",
       "      <td>125</td>\n",
       "      <td>Affordable</td>\n",
       "    </tr>\n",
       "    <tr>\n",
       "      <th>303</th>\n",
       "      <td>2692</td>\n",
       "      <td>Premium</td>\n",
       "      <td>2692</td>\n",
       "      <td>Semi-Premium</td>\n",
       "    </tr>\n",
       "    <tr>\n",
       "      <th>368</th>\n",
       "      <td>1408</td>\n",
       "      <td>Semi-Premium</td>\n",
       "      <td>1408</td>\n",
       "      <td>Premium</td>\n",
       "    </tr>\n",
       "    <tr>\n",
       "      <th>377</th>\n",
       "      <td>2329</td>\n",
       "      <td>Affordable</td>\n",
       "      <td>2329</td>\n",
       "      <td>Semi-Premium</td>\n",
       "    </tr>\n",
       "    <tr>\n",
       "      <th>415</th>\n",
       "      <td>1533</td>\n",
       "      <td>Premium</td>\n",
       "      <td>1533</td>\n",
       "      <td>Semi-Premium</td>\n",
       "    </tr>\n",
       "    <tr>\n",
       "      <th>433</th>\n",
       "      <td>1496</td>\n",
       "      <td>Semi-Premium</td>\n",
       "      <td>1496</td>\n",
       "      <td>Affordable</td>\n",
       "    </tr>\n",
       "    <tr>\n",
       "      <th>436</th>\n",
       "      <td>3099</td>\n",
       "      <td>Premium</td>\n",
       "      <td>3099</td>\n",
       "      <td>Semi-Premium</td>\n",
       "    </tr>\n",
       "    <tr>\n",
       "      <th>448</th>\n",
       "      <td>3496</td>\n",
       "      <td>Semi-Premium</td>\n",
       "      <td>3496</td>\n",
       "      <td>Premium</td>\n",
       "    </tr>\n",
       "    <tr>\n",
       "      <th>475</th>\n",
       "      <td>1816</td>\n",
       "      <td>Semi-Premium</td>\n",
       "      <td>1816</td>\n",
       "      <td>Premium</td>\n",
       "    </tr>\n",
       "    <tr>\n",
       "      <th>516</th>\n",
       "      <td>3369</td>\n",
       "      <td>Semi-Premium</td>\n",
       "      <td>3369</td>\n",
       "      <td>Premium</td>\n",
       "    </tr>\n",
       "    <tr>\n",
       "      <th>537</th>\n",
       "      <td>2550</td>\n",
       "      <td>Affordable</td>\n",
       "      <td>2550</td>\n",
       "      <td>Cheap</td>\n",
       "    </tr>\n",
       "    <tr>\n",
       "      <th>539</th>\n",
       "      <td>2176</td>\n",
       "      <td>Semi-Premium</td>\n",
       "      <td>2176</td>\n",
       "      <td>Affordable</td>\n",
       "    </tr>\n",
       "  </tbody>\n",
       "</table>\n",
       "</div>"
      ],
      "text/plain": [
       "     Property_Id Price_Category  Property_Id Price_Category\n",
       "52           711   Semi-Premium          711        Premium\n",
       "84           221   Semi-Premium          221     Affordable\n",
       "176         3612     Affordable         3612   Semi-Premium\n",
       "195          451   Semi-Premium          451        Premium\n",
       "269         2576   Semi-Premium         2576        Premium\n",
       "282         1586        Premium         1586   Semi-Premium\n",
       "299          125   Semi-Premium          125     Affordable\n",
       "303         2692        Premium         2692   Semi-Premium\n",
       "368         1408   Semi-Premium         1408        Premium\n",
       "377         2329     Affordable         2329   Semi-Premium\n",
       "415         1533        Premium         1533   Semi-Premium\n",
       "433         1496   Semi-Premium         1496     Affordable\n",
       "436         3099        Premium         3099   Semi-Premium\n",
       "448         3496   Semi-Premium         3496        Premium\n",
       "475         1816   Semi-Premium         1816        Premium\n",
       "516         3369   Semi-Premium         3369        Premium\n",
       "537         2550     Affordable         2550          Cheap\n",
       "539         2176   Semi-Premium         2176     Affordable"
      ]
     },
     "execution_count": 47,
     "metadata": {},
     "output_type": "execute_result"
    }
   ],
   "source": [
    "pd.concat([sub,pre_sub2],axis=1)[sub.Price_Category != pre_sub2.Price_Category]"
   ]
  },
  {
   "cell_type": "code",
   "execution_count": null,
   "metadata": {},
   "outputs": [],
   "source": []
  }
 ],
 "metadata": {
  "kernelspec": {
   "display_name": "Python 3",
   "language": "python",
   "name": "python3"
  },
  "language_info": {
   "codemirror_mode": {
    "name": "ipython",
    "version": 3
   },
   "file_extension": ".py",
   "mimetype": "text/x-python",
   "name": "python",
   "nbconvert_exporter": "python",
   "pygments_lexer": "ipython3",
   "version": "3.8.4"
  }
 },
 "nbformat": 4,
 "nbformat_minor": 4
}
