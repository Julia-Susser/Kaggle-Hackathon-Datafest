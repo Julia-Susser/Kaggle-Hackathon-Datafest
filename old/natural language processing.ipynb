{
 "cells": [
  {
   "cell_type": "code",
   "execution_count": 15,
   "metadata": {},
   "outputs": [],
   "source": [
    "import pandas as pd\n",
    "import numpy as np\n",
    "import re\n",
    "import matplotlib.pyplot as plt \n",
    "import seaborn as sns \n",
    "from sklearn.utils import shuffle\n",
    "from sklearn.model_selection import train_test_split "
   ]
  },
  {
   "cell_type": "code",
   "execution_count": 16,
   "metadata": {},
   "outputs": [
    {
     "data": {
      "text/html": [
       "<div>\n",
       "<style scoped>\n",
       "    .dataframe tbody tr th:only-of-type {\n",
       "        vertical-align: middle;\n",
       "    }\n",
       "\n",
       "    .dataframe tbody tr th {\n",
       "        vertical-align: top;\n",
       "    }\n",
       "\n",
       "    .dataframe thead th {\n",
       "        text-align: right;\n",
       "    }\n",
       "</style>\n",
       "<table border=\"1\" class=\"dataframe\">\n",
       "  <thead>\n",
       "    <tr style=\"text-align: right;\">\n",
       "      <th></th>\n",
       "      <th>Title</th>\n",
       "      <th>Label</th>\n",
       "      <th>Type</th>\n",
       "      <th>Location</th>\n",
       "      <th>Baths</th>\n",
       "      <th>Area</th>\n",
       "      <th>Purpose</th>\n",
       "      <th>Bedroom(s)</th>\n",
       "      <th>Description</th>\n",
       "      <th>Main Features</th>\n",
       "      <th>Rooms</th>\n",
       "      <th>Business and Communication</th>\n",
       "      <th>Healthcare Recreational</th>\n",
       "      <th>Nearby Locations and Other Facilities</th>\n",
       "      <th>Other Facilities</th>\n",
       "      <th>Popular</th>\n",
       "      <th>Source</th>\n",
       "      <th>Time Stamp</th>\n",
       "    </tr>\n",
       "  </thead>\n",
       "  <tbody>\n",
       "    <tr>\n",
       "      <th>0</th>\n",
       "      <td>Brand New 1 Kanal House For Sale In Bahria Tow...</td>\n",
       "      <td>Bahria Town - Gulbahar Block, Bahria Town - Se...</td>\n",
       "      <td>House</td>\n",
       "      <td>Bahria Town, Lahore, Punjab</td>\n",
       "      <td>6</td>\n",
       "      <td>1 Kanal</td>\n",
       "      <td>For Sale</td>\n",
       "      <td>5</td>\n",
       "      <td>Brand New 1 Kanal House For Sale In Bahria Tow...</td>\n",
       "      <td>Built in year: 2018 , Parking Spaces: 4 , Dou...</td>\n",
       "      <td>Bedrooms: 5 , Bathrooms: 7 , Servant Quarters...</td>\n",
       "      <td>Broadband Internet Access , Satellite or Cabl...</td>\n",
       "      <td>Lawn or Garden , Swimming Pool</td>\n",
       "      <td>Nearby Schools , Nearby Hospitals , Nearby Sh...</td>\n",
       "      <td>Maintenance Staff , Security Staff , Faciliti...</td>\n",
       "      <td>super hot</td>\n",
       "      <td>Lahore-1-10</td>\n",
       "      <td>3/31/2019 11:01</td>\n",
       "    </tr>\n",
       "  </tbody>\n",
       "</table>\n",
       "</div>"
      ],
      "text/plain": [
       "                                               Title  \\\n",
       "0  Brand New 1 Kanal House For Sale In Bahria Tow...   \n",
       "\n",
       "                                               Label   Type  \\\n",
       "0  Bahria Town - Gulbahar Block, Bahria Town - Se...  House   \n",
       "\n",
       "                      Location Baths     Area   Purpose Bedroom(s)  \\\n",
       "0  Bahria Town, Lahore, Punjab     6  1 Kanal  For Sale          5   \n",
       "\n",
       "                                         Description  \\\n",
       "0  Brand New 1 Kanal House For Sale In Bahria Tow...   \n",
       "\n",
       "                                       Main Features  \\\n",
       "0   Built in year: 2018 , Parking Spaces: 4 , Dou...   \n",
       "\n",
       "                                               Rooms  \\\n",
       "0   Bedrooms: 5 , Bathrooms: 7 , Servant Quarters...   \n",
       "\n",
       "                          Business and Communication  \\\n",
       "0   Broadband Internet Access , Satellite or Cabl...   \n",
       "\n",
       "           Healthcare Recreational  \\\n",
       "0   Lawn or Garden , Swimming Pool   \n",
       "\n",
       "               Nearby Locations and Other Facilities  \\\n",
       "0   Nearby Schools , Nearby Hospitals , Nearby Sh...   \n",
       "\n",
       "                                    Other Facilities    Popular       Source  \\\n",
       "0   Maintenance Staff , Security Staff , Faciliti...  super hot  Lahore-1-10   \n",
       "\n",
       "        Time Stamp  \n",
       "0  3/31/2019 11:01  "
      ]
     },
     "execution_count": 16,
     "metadata": {},
     "output_type": "execute_result"
    }
   ],
   "source": [
    "train = pd.read_csv(\"../input/train.csv\")\n",
    "test = pd.read_csv(\"../input/test.csv\")\n",
    "testId = test.Property_Id\n",
    "train.Price_Category = train.Price_Category.replace(\"Cheap\",0).replace(\"Affordable\",1).replace(\"Semi-Premium\",2).replace(\"Premium\",3)\n",
    "y = train.Price_Category\n",
    "train = train.drop([\"Property_Id\", \"Price_Category\"],axis=1)\n",
    "train.head(1)"
   ]
  },
  {
   "cell_type": "code",
   "execution_count": 17,
   "metadata": {},
   "outputs": [],
   "source": [
    "from tensorflow.keras.preprocessing.text import one_hot\n",
    "vocab_size = 1000\n",
    "train[\"encoded\"] = [one_hot(sentence, vocab_size) for sentence in train[\"Description\"]]\n",
    "\n"
   ]
  },
  {
   "cell_type": "code",
   "execution_count": 18,
   "metadata": {},
   "outputs": [
    {
     "data": {
      "text/plain": [
       "(array([1.891e+03, 7.430e+02, 2.860e+02, 8.200e+01, 4.900e+01, 1.500e+01,\n",
       "        1.000e+00, 1.100e+01, 2.000e+00, 2.000e+00]),\n",
       " array([1.000e+00, 1.067e+02, 2.124e+02, 3.181e+02, 4.238e+02, 5.295e+02,\n",
       "        6.352e+02, 7.409e+02, 8.466e+02, 9.523e+02, 1.058e+03]),\n",
       " <a list of 10 Patch objects>)"
      ]
     },
     "execution_count": 18,
     "metadata": {},
     "output_type": "execute_result"
    },
    {
     "data": {
      "image/png": "[encoded data removed]",
      "text/plain": [
       "<Figure size 432x288 with 1 Axes>"
      ]
     },
     "metadata": {
      "needs_background": "light"
     },
     "output_type": "display_data"
    }
   ],
   "source": [
    "#How long are each of the titles\n",
    "highest = []\n",
    "for x in train[\"encoded\"]: highest.append(len(x))\n",
    "max(highest)\n",
    "import matplotlib.pyplot as plt \n",
    "counts, bins = np.histogram(highest)\n",
    "plt.hist(bins[:-1], bins, weights=counts)"
   ]
  },
  {
   "cell_type": "code",
   "execution_count": 19,
   "metadata": {},
   "outputs": [],
   "source": [
    "\n",
    "from tensorflow.keras.preprocessing.sequence import pad_sequences\n",
    "max_length = int(np.median(highest))\n",
    "X = pad_sequences(list(train.encoded), maxlen=max_length, padding='pre')\n"
   ]
  },
  {
   "cell_type": "code",
   "execution_count": 20,
   "metadata": {},
   "outputs": [
    {
     "name": "stdout",
     "output_type": "stream",
     "text": [
      "Model: \"sequential_2\"\n",
      "_________________________________________________________________\n",
      "Layer (type)                 Output Shape              Param #   \n",
      "=================================================================\n",
      "embedding_2 (Embedding)      (None, 82, 45)            45000     \n",
      "_________________________________________________________________\n",
      "dropout_4 (Dropout)          (None, 82, 45)            0         \n",
      "_________________________________________________________________\n",
      "flatten_2 (Flatten)          (None, 3690)              0         \n",
      "_________________________________________________________________\n",
      "dropout_5 (Dropout)          (None, 3690)              0         \n",
      "_________________________________________________________________\n",
      "dense_2 (Dense)              (None, 1)                 3691      \n",
      "=================================================================\n",
      "Total params: 48,691\n",
      "Trainable params: 48,691\n",
      "Non-trainable params: 0\n",
      "_________________________________________________________________\n",
      "None\n"
     ]
    }
   ],
   "source": [
    "from tensorflow.keras.layers import Embedding,Dense,LSTM,Dropout,Flatten\n",
    "from tensorflow.keras.models import Sequential\n",
    "import tensorflow as tf\n",
    "\n",
    "class myCallback(tf.keras.callbacks.Callback):\n",
    "  def on_epoch_end(self, epoch, logs={}):\n",
    "    if(logs.get('val_accuracy')>0.948):\n",
    "      print(\"\\nReached 94% accuracy so cancelling training!\")\n",
    "      self.model.stop_training = True\n",
    "callbacks = myCallback()\n",
    "\n",
    "model = Sequential()\n",
    "model.add(Embedding(1000, 45, input_length=max_length)) \n",
    "model.add(Dropout(0.3))\n",
    "model.add(Flatten())\n",
    "model.add(Dropout(0.3))\n",
    "model.add(Dense(1, activation='sigmoid'))\n",
    "model.compile(optimizer='adam', loss='binary_crossentropy', metrics=['accuracy'])\n",
    "\n",
    "\n",
    "# embedding_vector_features=40\n",
    "# model=Sequential()\n",
    "# model.add(Embedding(218605,embedding_vector_features,input_length=max_length)) ## embedding layer used 40 features to make feature representation of the sentences\n",
    "# model.add(Dropout(0.3))\n",
    "# model.add(LSTM(100))\n",
    "# model.add(Dropout(0.3)) ## drop out layer to make the model more regularized\n",
    "# model.add(Dense(1,activation='sigmoid'))\n",
    "# model.compile(loss='binary_crossentropy',optimizer='adam',metrics=['accuracy'])\n",
    "\n",
    "\n",
    "print(model.summary()) ## model architechture done\n",
    "\n",
    "\n",
    "\n",
    "\n"
   ]
  },
  {
   "cell_type": "code",
   "execution_count": 21,
   "metadata": {},
   "outputs": [
    {
     "name": "stdout",
     "output_type": "stream",
     "text": [
      "395/395 [==============================] - 2s 3ms/step - loss: -50.6893 - accuracy: 0.0590 - val_loss: -691.7482 - val_accuracy: 0.0527\n"
     ]
    }
   ],
   "source": [
    "from sklearn.model_selection import train_test_split \n",
    "x_train, x_test, y_train, y_test = train_test_split(X, y, test_size=0.20, random_state=42) #default shuffle = True but random state = 42 means always same random shuffle\n",
    "\n",
    "\n",
    "history = model.fit(x_train, y_train, validation_split=.2, epochs=1, batch_size=5, verbose=1, callbacks=[callbacks])\n",
    "\n"
   ]
  },
  {
   "cell_type": "code",
   "execution_count": 22,
   "metadata": {},
   "outputs": [
    {
     "name": "stdout",
     "output_type": "stream",
     "text": [
      "Accuracy: 5.996758\n"
     ]
    }
   ],
   "source": [
    "loss, accuracy = model.evaluate(x_test,y_test, verbose=0)\n",
    "print('Accuracy: %f' % (accuracy*100))"
   ]
  }
 ],
 "metadata": {
  "kernelspec": {
   "display_name": "Python 3",
   "language": "python",
   "name": "python3"
  },
  "language_info": {
   "codemirror_mode": {
    "name": "ipython",
    "version": 3
   },
   "file_extension": ".py",
   "mimetype": "text/x-python",
   "name": "python",
   "nbconvert_exporter": "python",
   "pygments_lexer": "ipython3",
   "version": "3.8.4"
  }
 },
 "nbformat": 4,
 "nbformat_minor": 4
}
